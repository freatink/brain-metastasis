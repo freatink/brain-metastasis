{
 "cells": [
  {
   "cell_type": "markdown",
   "metadata": {},
   "source": [
    "# The Treatment Options and Prognosis of Brain Metastases\n",
    "- By Freatink\n",
    "- 2018.09"
   ]
  },
  {
   "cell_type": "markdown",
   "metadata": {},
   "source": [
    "![Brain Metastases](brain.jpg)"
   ]
  },
  {
   "cell_type": "markdown",
   "metadata": {},
   "source": [
    "## 1. Business Understanding: What is brain metastases?"
   ]
  },
  {
   "cell_type": "markdown",
   "metadata": {},
   "source": [
    "**Brain metastases** means the situation that someone has a kind of systme tumor, such as lung cancer, breast cancer,bladder cancer and so on. The tumor must be malignent, and the primary tumor can be transformed into our central nervous system(CNS). If your brain is invaded by cancer from other systems, brain metastases will be formed and cause bad prognosis.To understand the main character of brain metastases and to choose the most suitable treatment are extramely important for these patients."
   ]
  },
  {
   "cell_type": "markdown",
   "metadata": {},
   "source": [
    "There are some questions that you may get interested: \n",
    "\n",
    "> 1. what are the main characters of brain metastases? The ages at which people should get caustion of it? Among many primary tumors, which is the most possible responsible one.\n",
    "> 2. How long can a people live with brain metastases?\n",
    "> 3. How to choose the most suitable treatment?"
   ]
  },
  {
   "cell_type": "markdown",
   "metadata": {},
   "source": [
    "## 2. Data Understanding"
   ]
  },
  {
   "cell_type": "markdown",
   "metadata": {},
   "source": [
    "To find out the main character of brain metastases and the treatment choises, I collected 90 patients' clinical data from a hospital in north part of China. I restore these data in brain_metastasis_data.csv. In this section, I will load it into dataframe and do some exploration."
   ]
  },
  {
   "cell_type": "code",
   "execution_count": 2,
   "metadata": {},
   "outputs": [],
   "source": [
    "# import essential packages\n",
    "import numpy as np\n",
    "import pandas as pd\n",
    "from matplotlib import pyplot as plt\n",
    "import seaborn as sns"
   ]
  },
  {
   "cell_type": "code",
   "execution_count": 3,
   "metadata": {},
   "outputs": [],
   "source": [
    "#load the data\n",
    "raw_data = pd.read_csv('brain_metastasis_data.csv')"
   ]
  },
  {
   "cell_type": "code",
   "execution_count": 4,
   "metadata": {},
   "outputs": [],
   "source": [
    "#load the description \n",
    "description = pd.read_csv('description.csv')"
   ]
  },
  {
   "cell_type": "code",
   "execution_count": 5,
   "metadata": {},
   "outputs": [
    {
     "data": {
      "text/html": [
       "<div>\n",
       "<style scoped>\n",
       "    .dataframe tbody tr th:only-of-type {\n",
       "        vertical-align: middle;\n",
       "    }\n",
       "\n",
       "    .dataframe tbody tr th {\n",
       "        vertical-align: top;\n",
       "    }\n",
       "\n",
       "    .dataframe thead th {\n",
       "        text-align: right;\n",
       "    }\n",
       "</style>\n",
       "<table border=\"1\" class=\"dataframe\">\n",
       "  <thead>\n",
       "    <tr style=\"text-align: right;\">\n",
       "      <th></th>\n",
       "      <th>id</th>\n",
       "      <th>age</th>\n",
       "      <th>gender</th>\n",
       "      <th>primary_site</th>\n",
       "      <th>tumor_amount_supratentorial</th>\n",
       "      <th>tumor_amount_subtentorial</th>\n",
       "      <th>duration</th>\n",
       "      <th>KPS</th>\n",
       "      <th>survival</th>\n",
       "      <th>OS</th>\n",
       "      <th>primary tumor control</th>\n",
       "      <th>treatment</th>\n",
       "      <th>size</th>\n",
       "      <th>metastasis other than CNS</th>\n",
       "    </tr>\n",
       "  </thead>\n",
       "  <tbody>\n",
       "    <tr>\n",
       "      <th>0</th>\n",
       "      <td>1</td>\n",
       "      <td>76</td>\n",
       "      <td>1</td>\n",
       "      <td>1</td>\n",
       "      <td>1</td>\n",
       "      <td>0</td>\n",
       "      <td>0</td>\n",
       "      <td>1</td>\n",
       "      <td>1</td>\n",
       "      <td>5.0</td>\n",
       "      <td>2</td>\n",
       "      <td>COP+WBRT+CT</td>\n",
       "      <td>2</td>\n",
       "      <td>2</td>\n",
       "    </tr>\n",
       "    <tr>\n",
       "      <th>1</th>\n",
       "      <td>2</td>\n",
       "      <td>64</td>\n",
       "      <td>1</td>\n",
       "      <td>1</td>\n",
       "      <td>1</td>\n",
       "      <td>2</td>\n",
       "      <td>6</td>\n",
       "      <td>1</td>\n",
       "      <td>2</td>\n",
       "      <td>4.0</td>\n",
       "      <td>2</td>\n",
       "      <td>CT</td>\n",
       "      <td>1</td>\n",
       "      <td>1</td>\n",
       "    </tr>\n",
       "    <tr>\n",
       "      <th>2</th>\n",
       "      <td>3</td>\n",
       "      <td>31</td>\n",
       "      <td>1</td>\n",
       "      <td>1</td>\n",
       "      <td>2</td>\n",
       "      <td>0</td>\n",
       "      <td>0</td>\n",
       "      <td>1</td>\n",
       "      <td>2</td>\n",
       "      <td>14.0</td>\n",
       "      <td>2</td>\n",
       "      <td>COP+SRS</td>\n",
       "      <td>2</td>\n",
       "      <td>1</td>\n",
       "    </tr>\n",
       "    <tr>\n",
       "      <th>3</th>\n",
       "      <td>4</td>\n",
       "      <td>62</td>\n",
       "      <td>2</td>\n",
       "      <td>1</td>\n",
       "      <td>1</td>\n",
       "      <td>0</td>\n",
       "      <td>0</td>\n",
       "      <td>1</td>\n",
       "      <td>1</td>\n",
       "      <td>12.0</td>\n",
       "      <td>1</td>\n",
       "      <td>COP+SRS</td>\n",
       "      <td>2</td>\n",
       "      <td>2</td>\n",
       "    </tr>\n",
       "    <tr>\n",
       "      <th>4</th>\n",
       "      <td>5</td>\n",
       "      <td>68</td>\n",
       "      <td>2</td>\n",
       "      <td>1</td>\n",
       "      <td>0</td>\n",
       "      <td>2</td>\n",
       "      <td>47</td>\n",
       "      <td>1</td>\n",
       "      <td>2</td>\n",
       "      <td>5.0</td>\n",
       "      <td>1</td>\n",
       "      <td>WBRT+CT</td>\n",
       "      <td>1</td>\n",
       "      <td>2</td>\n",
       "    </tr>\n",
       "  </tbody>\n",
       "</table>\n",
       "</div>"
      ],
      "text/plain": [
       "   id  age  gender  primary_site  tumor_amount_supratentorial  \\\n",
       "0   1   76       1             1                            1   \n",
       "1   2   64       1             1                            1   \n",
       "2   3   31       1             1                            2   \n",
       "3   4   62       2             1                            1   \n",
       "4   5   68       2             1                            0   \n",
       "\n",
       "   tumor_amount_subtentorial  duration  KPS  survival    OS  \\\n",
       "0                          0         0    1         1   5.0   \n",
       "1                          2         6    1         2   4.0   \n",
       "2                          0         0    1         2  14.0   \n",
       "3                          0         0    1         1  12.0   \n",
       "4                          2        47    1         2   5.0   \n",
       "\n",
       "   primary tumor control    treatment  size  metastasis other than CNS  \n",
       "0                      2  COP+WBRT+CT     2                          2  \n",
       "1                      2           CT     1                          1  \n",
       "2                      2      COP+SRS     2                          1  \n",
       "3                      1      COP+SRS     2                          2  \n",
       "4                      1      WBRT+CT     1                          2  "
      ]
     },
     "execution_count": 5,
     "metadata": {},
     "output_type": "execute_result"
    }
   ],
   "source": [
    "# glacne over the data\n",
    "raw_data.head()"
   ]
  },
  {
   "cell_type": "markdown",
   "metadata": {},
   "source": [
    "- When you look at the dataframe above, you may find that almost all of the colunms are marked by some numbers and some columns are quite difficult to understand. That is because the data was exported from SPSS software. I made the description dataframe for the readers, as you can find all the explanations in the description text if you want."
   ]
  },
  {
   "cell_type": "code",
   "execution_count": 6,
   "metadata": {},
   "outputs": [
    {
     "data": {
      "text/html": [
       "<div>\n",
       "<style scoped>\n",
       "    .dataframe tbody tr th:only-of-type {\n",
       "        vertical-align: middle;\n",
       "    }\n",
       "\n",
       "    .dataframe tbody tr th {\n",
       "        vertical-align: top;\n",
       "    }\n",
       "\n",
       "    .dataframe thead th {\n",
       "        text-align: right;\n",
       "    }\n",
       "</style>\n",
       "<table border=\"1\" class=\"dataframe\">\n",
       "  <thead>\n",
       "    <tr style=\"text-align: right;\">\n",
       "      <th></th>\n",
       "      <th>id</th>\n",
       "      <th>The index of the patients.</th>\n",
       "    </tr>\n",
       "  </thead>\n",
       "  <tbody>\n",
       "    <tr>\n",
       "      <th>0</th>\n",
       "      <td>age</td>\n",
       "      <td>The age of the patients.</td>\n",
       "    </tr>\n",
       "    <tr>\n",
       "      <th>1</th>\n",
       "      <td>gender</td>\n",
       "      <td>1 represents male, 2 represents female.</td>\n",
       "    </tr>\n",
       "    <tr>\n",
       "      <th>2</th>\n",
       "      <td>primary_site</td>\n",
       "      <td>the primary lesion of the tumor：1: 'lung', 2: ...</td>\n",
       "    </tr>\n",
       "    <tr>\n",
       "      <th>3</th>\n",
       "      <td>tumor_amount_supratentorial</td>\n",
       "      <td>The amount of tumors in the supratentorial reg...</td>\n",
       "    </tr>\n",
       "    <tr>\n",
       "      <th>4</th>\n",
       "      <td>tumor_amount_subtentorial</td>\n",
       "      <td>The amount of tumors in the subtentorial region.</td>\n",
       "    </tr>\n",
       "    <tr>\n",
       "      <th>5</th>\n",
       "      <td>duration</td>\n",
       "      <td>The duration between the primary lesion and th...</td>\n",
       "    </tr>\n",
       "    <tr>\n",
       "      <th>6</th>\n",
       "      <td>KPS</td>\n",
       "      <td>1 represents KPS score ≥70, 0 reprensents KPS ...</td>\n",
       "    </tr>\n",
       "    <tr>\n",
       "      <th>7</th>\n",
       "      <td>survival</td>\n",
       "      <td>1 represents alive, 2 represents dead, 3 repre...</td>\n",
       "    </tr>\n",
       "    <tr>\n",
       "      <th>8</th>\n",
       "      <td>primary tumor control</td>\n",
       "      <td>1 represents primary tumor is controlled well,...</td>\n",
       "    </tr>\n",
       "    <tr>\n",
       "      <th>9</th>\n",
       "      <td>treatment</td>\n",
       "      <td>COP means conplete tumor resection, SRS means ...</td>\n",
       "    </tr>\n",
       "    <tr>\n",
       "      <th>10</th>\n",
       "      <td>size</td>\n",
       "      <td>the tumor size: 1 represents diameter&lt;3cm，2 re...</td>\n",
       "    </tr>\n",
       "    <tr>\n",
       "      <th>11</th>\n",
       "      <td>metastasis other than CNS</td>\n",
       "      <td>1 represents yes, 2 represents no</td>\n",
       "    </tr>\n",
       "  </tbody>\n",
       "</table>\n",
       "</div>"
      ],
      "text/plain": [
       "                             id  \\\n",
       "0                           age   \n",
       "1                        gender   \n",
       "2                  primary_site   \n",
       "3   tumor_amount_supratentorial   \n",
       "4     tumor_amount_subtentorial   \n",
       "5                      duration   \n",
       "6                           KPS   \n",
       "7                      survival   \n",
       "8         primary tumor control   \n",
       "9                     treatment   \n",
       "10                         size   \n",
       "11    metastasis other than CNS   \n",
       "\n",
       "                           The index of the patients.  \n",
       "0                            The age of the patients.  \n",
       "1             1 represents male, 2 represents female.  \n",
       "2   the primary lesion of the tumor：1: 'lung', 2: ...  \n",
       "3   The amount of tumors in the supratentorial reg...  \n",
       "4    The amount of tumors in the subtentorial region.  \n",
       "5   The duration between the primary lesion and th...  \n",
       "6   1 represents KPS score ≥70, 0 reprensents KPS ...  \n",
       "7   1 represents alive, 2 represents dead, 3 repre...  \n",
       "8   1 represents primary tumor is controlled well,...  \n",
       "9   COP means conplete tumor resection, SRS means ...  \n",
       "10  the tumor size: 1 represents diameter<3cm，2 re...  \n",
       "11                  1 represents yes, 2 represents no  "
      ]
     },
     "execution_count": 6,
     "metadata": {},
     "output_type": "execute_result"
    }
   ],
   "source": [
    "# glance over the description\n",
    "description"
   ]
  },
  {
   "cell_type": "markdown",
   "metadata": {},
   "source": [
    " As you can see from the description, the data contains 12 columns of useful information including:\n",
    "\n",
    "> 1. the patients' age\n",
    "> 2. the patients' gender\n",
    "> 3. the primary tumor: remeber metastases is caused by primary tumors\n",
    "> 4. the tumor amount in the supratentorial region: our endbrain is located in the supratentorial region\n",
    "> 5. the tumor amount in the subtentorial region: the brain stem and the cerebellum are located in the subtentorial region\n",
    "> 6. the time duration between the primary tumor and the brain metastasis\n",
    "> 7. survival: At the time when our researchers try to contact with the patients, they may have been dead already. But some of the patients may still be alive. We may lose touch with some patients as well,\n",
    "> 8. KPS score: KPS score is the most frequently-used scoring system. If KPS >= 70, the patients can basically take care of themselves without others' help.\n",
    "> 9. primary tuomr control: whether the primary tumor is undercontrol and cured or not.\n",
    "> 10. teatment: the treatment the patients had choosen.\n",
    "> 11. size: the brain metastasis tumor size.\n",
    "> 12. metastasis other than CNS: is there any other tumor lesion in other systems beside central nervous system."
   ]
  },
  {
   "cell_type": "markdown",
   "metadata": {},
   "source": [
    "Here is the anatomy picture showing where is the supra- and sub- tentorial region:\n",
    "\n",
    "\n",
    "![Anatomy](anatomy.jpg)"
   ]
  },
  {
   "cell_type": "markdown",
   "metadata": {},
   "source": [
    "## 3. Prepare Data"
   ]
  },
  {
   "cell_type": "markdown",
   "metadata": {},
   "source": [
    "First, let's reset the index and do some exploration to get some general information."
   ]
  },
  {
   "cell_type": "code",
   "execution_count": 7,
   "metadata": {},
   "outputs": [],
   "source": [
    "#make the column id as the new index\n",
    "data = raw_data.set_index(['id'])"
   ]
  },
  {
   "cell_type": "code",
   "execution_count": 8,
   "metadata": {},
   "outputs": [],
   "source": [
    "#create a new column that counts the total tumor amount.\n",
    "data['total_tumor_amount'] = data['tumor_amount_supratentorial'] + data['tumor_amount_subtentorial']"
   ]
  },
  {
   "cell_type": "code",
   "execution_count": 9,
   "metadata": {},
   "outputs": [],
   "source": [
    "#creat a new column that can label whether the intracranial tumor is single or multiple.\n",
    "data['is_single'] = '_'\n",
    "for index, row in data.iterrows():\n",
    "            if row['total_tumor_amount'] == 1:\n",
    "                data.loc[index,['is_single']] = 'single'\n",
    "            else:\n",
    "                data.loc[index,['is_single']] = 'multiple'"
   ]
  },
  {
   "cell_type": "code",
   "execution_count": 10,
   "metadata": {},
   "outputs": [
    {
     "data": {
      "text/html": [
       "<div>\n",
       "<style scoped>\n",
       "    .dataframe tbody tr th:only-of-type {\n",
       "        vertical-align: middle;\n",
       "    }\n",
       "\n",
       "    .dataframe tbody tr th {\n",
       "        vertical-align: top;\n",
       "    }\n",
       "\n",
       "    .dataframe thead th {\n",
       "        text-align: right;\n",
       "    }\n",
       "</style>\n",
       "<table border=\"1\" class=\"dataframe\">\n",
       "  <thead>\n",
       "    <tr style=\"text-align: right;\">\n",
       "      <th></th>\n",
       "      <th>age</th>\n",
       "      <th>gender</th>\n",
       "      <th>primary_site</th>\n",
       "      <th>tumor_amount_supratentorial</th>\n",
       "      <th>tumor_amount_subtentorial</th>\n",
       "      <th>duration</th>\n",
       "      <th>KPS</th>\n",
       "      <th>survival</th>\n",
       "      <th>OS</th>\n",
       "      <th>primary tumor control</th>\n",
       "      <th>treatment</th>\n",
       "      <th>size</th>\n",
       "      <th>metastasis other than CNS</th>\n",
       "      <th>total_tumor_amount</th>\n",
       "      <th>is_single</th>\n",
       "    </tr>\n",
       "    <tr>\n",
       "      <th>id</th>\n",
       "      <th></th>\n",
       "      <th></th>\n",
       "      <th></th>\n",
       "      <th></th>\n",
       "      <th></th>\n",
       "      <th></th>\n",
       "      <th></th>\n",
       "      <th></th>\n",
       "      <th></th>\n",
       "      <th></th>\n",
       "      <th></th>\n",
       "      <th></th>\n",
       "      <th></th>\n",
       "      <th></th>\n",
       "      <th></th>\n",
       "    </tr>\n",
       "  </thead>\n",
       "  <tbody>\n",
       "    <tr>\n",
       "      <th>1</th>\n",
       "      <td>76</td>\n",
       "      <td>1</td>\n",
       "      <td>1</td>\n",
       "      <td>1</td>\n",
       "      <td>0</td>\n",
       "      <td>0</td>\n",
       "      <td>1</td>\n",
       "      <td>1</td>\n",
       "      <td>5.0</td>\n",
       "      <td>2</td>\n",
       "      <td>COP+WBRT+CT</td>\n",
       "      <td>2</td>\n",
       "      <td>2</td>\n",
       "      <td>1</td>\n",
       "      <td>single</td>\n",
       "    </tr>\n",
       "    <tr>\n",
       "      <th>2</th>\n",
       "      <td>64</td>\n",
       "      <td>1</td>\n",
       "      <td>1</td>\n",
       "      <td>1</td>\n",
       "      <td>2</td>\n",
       "      <td>6</td>\n",
       "      <td>1</td>\n",
       "      <td>2</td>\n",
       "      <td>4.0</td>\n",
       "      <td>2</td>\n",
       "      <td>CT</td>\n",
       "      <td>1</td>\n",
       "      <td>1</td>\n",
       "      <td>3</td>\n",
       "      <td>multiple</td>\n",
       "    </tr>\n",
       "    <tr>\n",
       "      <th>3</th>\n",
       "      <td>31</td>\n",
       "      <td>1</td>\n",
       "      <td>1</td>\n",
       "      <td>2</td>\n",
       "      <td>0</td>\n",
       "      <td>0</td>\n",
       "      <td>1</td>\n",
       "      <td>2</td>\n",
       "      <td>14.0</td>\n",
       "      <td>2</td>\n",
       "      <td>COP+SRS</td>\n",
       "      <td>2</td>\n",
       "      <td>1</td>\n",
       "      <td>2</td>\n",
       "      <td>multiple</td>\n",
       "    </tr>\n",
       "    <tr>\n",
       "      <th>4</th>\n",
       "      <td>62</td>\n",
       "      <td>2</td>\n",
       "      <td>1</td>\n",
       "      <td>1</td>\n",
       "      <td>0</td>\n",
       "      <td>0</td>\n",
       "      <td>1</td>\n",
       "      <td>1</td>\n",
       "      <td>12.0</td>\n",
       "      <td>1</td>\n",
       "      <td>COP+SRS</td>\n",
       "      <td>2</td>\n",
       "      <td>2</td>\n",
       "      <td>1</td>\n",
       "      <td>single</td>\n",
       "    </tr>\n",
       "    <tr>\n",
       "      <th>5</th>\n",
       "      <td>68</td>\n",
       "      <td>2</td>\n",
       "      <td>1</td>\n",
       "      <td>0</td>\n",
       "      <td>2</td>\n",
       "      <td>47</td>\n",
       "      <td>1</td>\n",
       "      <td>2</td>\n",
       "      <td>5.0</td>\n",
       "      <td>1</td>\n",
       "      <td>WBRT+CT</td>\n",
       "      <td>1</td>\n",
       "      <td>2</td>\n",
       "      <td>2</td>\n",
       "      <td>multiple</td>\n",
       "    </tr>\n",
       "  </tbody>\n",
       "</table>\n",
       "</div>"
      ],
      "text/plain": [
       "    age  gender  primary_site  tumor_amount_supratentorial  \\\n",
       "id                                                           \n",
       "1    76       1             1                            1   \n",
       "2    64       1             1                            1   \n",
       "3    31       1             1                            2   \n",
       "4    62       2             1                            1   \n",
       "5    68       2             1                            0   \n",
       "\n",
       "    tumor_amount_subtentorial  duration  KPS  survival    OS  \\\n",
       "id                                                             \n",
       "1                           0         0    1         1   5.0   \n",
       "2                           2         6    1         2   4.0   \n",
       "3                           0         0    1         2  14.0   \n",
       "4                           0         0    1         1  12.0   \n",
       "5                           2        47    1         2   5.0   \n",
       "\n",
       "    primary tumor control    treatment  size  metastasis other than CNS  \\\n",
       "id                                                                        \n",
       "1                       2  COP+WBRT+CT     2                          2   \n",
       "2                       2           CT     1                          1   \n",
       "3                       2      COP+SRS     2                          1   \n",
       "4                       1      COP+SRS     2                          2   \n",
       "5                       1      WBRT+CT     1                          2   \n",
       "\n",
       "    total_tumor_amount is_single  \n",
       "id                                \n",
       "1                    1    single  \n",
       "2                    3  multiple  \n",
       "3                    2  multiple  \n",
       "4                    1    single  \n",
       "5                    2  multiple  "
      ]
     },
     "execution_count": 10,
     "metadata": {},
     "output_type": "execute_result"
    }
   ],
   "source": [
    "# check the data\n",
    "data.head()"
   ]
  },
  {
   "cell_type": "code",
   "execution_count": 11,
   "metadata": {},
   "outputs": [
    {
     "name": "stdout",
     "output_type": "stream",
     "text": [
      "<class 'pandas.core.frame.DataFrame'>\n",
      "Int64Index: 90 entries, 1 to 90\n",
      "Data columns (total 15 columns):\n",
      "age                            90 non-null int64\n",
      "gender                         90 non-null int64\n",
      "primary_site                   90 non-null int64\n",
      "tumor_amount_supratentorial    90 non-null int64\n",
      "tumor_amount_subtentorial      90 non-null int64\n",
      "duration                       90 non-null int64\n",
      "KPS                            90 non-null int64\n",
      "survival                       90 non-null int64\n",
      "OS                             90 non-null float64\n",
      "primary tumor control          90 non-null int64\n",
      "treatment                      90 non-null object\n",
      "size                           90 non-null int64\n",
      "metastasis other than CNS      90 non-null int64\n",
      "total_tumor_amount             90 non-null int64\n",
      "is_single                      90 non-null object\n",
      "dtypes: float64(1), int64(12), object(2)\n",
      "memory usage: 13.8+ KB\n"
     ]
    }
   ],
   "source": [
    "# To have a look at the general type and information of the data\n",
    "data.info()"
   ]
  },
  {
   "cell_type": "code",
   "execution_count": 12,
   "metadata": {},
   "outputs": [
    {
     "data": {
      "text/plain": [
       "age                            0\n",
       "gender                         0\n",
       "primary_site                   0\n",
       "tumor_amount_supratentorial    0\n",
       "tumor_amount_subtentorial      0\n",
       "duration                       0\n",
       "KPS                            0\n",
       "survival                       0\n",
       "OS                             0\n",
       "primary tumor control          0\n",
       "treatment                      0\n",
       "size                           0\n",
       "metastasis other than CNS      0\n",
       "total_tumor_amount             0\n",
       "is_single                      0\n",
       "dtype: int64"
      ]
     },
     "execution_count": 12,
     "metadata": {},
     "output_type": "execute_result"
    }
   ],
   "source": [
    "#To check the missing value in the data. As you can see, there is no missing value in the dataframe.\n",
    "data.isnull().sum()"
   ]
  },
  {
   "cell_type": "markdown",
   "metadata": {},
   "source": [
    "- As the data was exported form SPSS, all of the categorical variables are labeled by intergers. I want to change them back to categorical variables and make them labeled by the real meaning according to the description dataframe."
   ]
  },
  {
   "cell_type": "code",
   "execution_count": 13,
   "metadata": {},
   "outputs": [],
   "source": [
    "# Define a function that take an index and dictionary as input. Replace the number with the correspending label in the index columns in data.\n",
    "def to_categorical(index,dict):\n",
    "    data[index] = data[index].replace(dict)"
   ]
  },
  {
   "cell_type": "code",
   "execution_count": 14,
   "metadata": {},
   "outputs": [],
   "source": [
    "# Define a dictionary that carries the index and the corresponding dictionary.\n",
    "labels = [('gender',{1: 'male', 2: 'female'}),('primary_site',{1: 'lung', 2: 'breast', 3: 'kidney', 4: 'rectum', 5: 'colon', 6: 'lymphoma', 7: 'others'}),\n",
    "          ('KPS', {1: '>= 70', 2: '<70'}),('survival',{1: 'alive', 2: 'dead' }),('primary tumor control',{1: 'controled', 2:'uncontroled'}),('size',{1: '<3cm', 2: '>=3cm'}),\n",
    "          ('metastasis other than CNS',{1: 'yes', 2:'no'})]"
   ]
  },
  {
   "cell_type": "code",
   "execution_count": 15,
   "metadata": {},
   "outputs": [],
   "source": [
    "#Implement the change.\n",
    "for item in labels:\n",
    "    to_categorical(item[0], item[1])"
   ]
  },
  {
   "cell_type": "code",
   "execution_count": 16,
   "metadata": {},
   "outputs": [
    {
     "data": {
      "text/html": [
       "<div>\n",
       "<style scoped>\n",
       "    .dataframe tbody tr th:only-of-type {\n",
       "        vertical-align: middle;\n",
       "    }\n",
       "\n",
       "    .dataframe tbody tr th {\n",
       "        vertical-align: top;\n",
       "    }\n",
       "\n",
       "    .dataframe thead th {\n",
       "        text-align: right;\n",
       "    }\n",
       "</style>\n",
       "<table border=\"1\" class=\"dataframe\">\n",
       "  <thead>\n",
       "    <tr style=\"text-align: right;\">\n",
       "      <th></th>\n",
       "      <th>age</th>\n",
       "      <th>gender</th>\n",
       "      <th>primary_site</th>\n",
       "      <th>tumor_amount_supratentorial</th>\n",
       "      <th>tumor_amount_subtentorial</th>\n",
       "      <th>duration</th>\n",
       "      <th>KPS</th>\n",
       "      <th>survival</th>\n",
       "      <th>OS</th>\n",
       "      <th>primary tumor control</th>\n",
       "      <th>treatment</th>\n",
       "      <th>size</th>\n",
       "      <th>metastasis other than CNS</th>\n",
       "      <th>total_tumor_amount</th>\n",
       "      <th>is_single</th>\n",
       "    </tr>\n",
       "    <tr>\n",
       "      <th>id</th>\n",
       "      <th></th>\n",
       "      <th></th>\n",
       "      <th></th>\n",
       "      <th></th>\n",
       "      <th></th>\n",
       "      <th></th>\n",
       "      <th></th>\n",
       "      <th></th>\n",
       "      <th></th>\n",
       "      <th></th>\n",
       "      <th></th>\n",
       "      <th></th>\n",
       "      <th></th>\n",
       "      <th></th>\n",
       "      <th></th>\n",
       "    </tr>\n",
       "  </thead>\n",
       "  <tbody>\n",
       "    <tr>\n",
       "      <th>1</th>\n",
       "      <td>76</td>\n",
       "      <td>male</td>\n",
       "      <td>lung</td>\n",
       "      <td>1</td>\n",
       "      <td>0</td>\n",
       "      <td>0</td>\n",
       "      <td>&gt;= 70</td>\n",
       "      <td>alive</td>\n",
       "      <td>5.0</td>\n",
       "      <td>uncontroled</td>\n",
       "      <td>COP+WBRT+CT</td>\n",
       "      <td>&gt;=3cm</td>\n",
       "      <td>no</td>\n",
       "      <td>1</td>\n",
       "      <td>single</td>\n",
       "    </tr>\n",
       "    <tr>\n",
       "      <th>2</th>\n",
       "      <td>64</td>\n",
       "      <td>male</td>\n",
       "      <td>lung</td>\n",
       "      <td>1</td>\n",
       "      <td>2</td>\n",
       "      <td>6</td>\n",
       "      <td>&gt;= 70</td>\n",
       "      <td>dead</td>\n",
       "      <td>4.0</td>\n",
       "      <td>uncontroled</td>\n",
       "      <td>CT</td>\n",
       "      <td>&lt;3cm</td>\n",
       "      <td>yes</td>\n",
       "      <td>3</td>\n",
       "      <td>multiple</td>\n",
       "    </tr>\n",
       "    <tr>\n",
       "      <th>3</th>\n",
       "      <td>31</td>\n",
       "      <td>male</td>\n",
       "      <td>lung</td>\n",
       "      <td>2</td>\n",
       "      <td>0</td>\n",
       "      <td>0</td>\n",
       "      <td>&gt;= 70</td>\n",
       "      <td>dead</td>\n",
       "      <td>14.0</td>\n",
       "      <td>uncontroled</td>\n",
       "      <td>COP+SRS</td>\n",
       "      <td>&gt;=3cm</td>\n",
       "      <td>yes</td>\n",
       "      <td>2</td>\n",
       "      <td>multiple</td>\n",
       "    </tr>\n",
       "    <tr>\n",
       "      <th>4</th>\n",
       "      <td>62</td>\n",
       "      <td>female</td>\n",
       "      <td>lung</td>\n",
       "      <td>1</td>\n",
       "      <td>0</td>\n",
       "      <td>0</td>\n",
       "      <td>&gt;= 70</td>\n",
       "      <td>alive</td>\n",
       "      <td>12.0</td>\n",
       "      <td>controled</td>\n",
       "      <td>COP+SRS</td>\n",
       "      <td>&gt;=3cm</td>\n",
       "      <td>no</td>\n",
       "      <td>1</td>\n",
       "      <td>single</td>\n",
       "    </tr>\n",
       "    <tr>\n",
       "      <th>5</th>\n",
       "      <td>68</td>\n",
       "      <td>female</td>\n",
       "      <td>lung</td>\n",
       "      <td>0</td>\n",
       "      <td>2</td>\n",
       "      <td>47</td>\n",
       "      <td>&gt;= 70</td>\n",
       "      <td>dead</td>\n",
       "      <td>5.0</td>\n",
       "      <td>controled</td>\n",
       "      <td>WBRT+CT</td>\n",
       "      <td>&lt;3cm</td>\n",
       "      <td>no</td>\n",
       "      <td>2</td>\n",
       "      <td>multiple</td>\n",
       "    </tr>\n",
       "  </tbody>\n",
       "</table>\n",
       "</div>"
      ],
      "text/plain": [
       "    age  gender primary_site  tumor_amount_supratentorial  \\\n",
       "id                                                          \n",
       "1    76    male         lung                            1   \n",
       "2    64    male         lung                            1   \n",
       "3    31    male         lung                            2   \n",
       "4    62  female         lung                            1   \n",
       "5    68  female         lung                            0   \n",
       "\n",
       "    tumor_amount_subtentorial  duration    KPS survival    OS  \\\n",
       "id                                                              \n",
       "1                           0         0  >= 70    alive   5.0   \n",
       "2                           2         6  >= 70     dead   4.0   \n",
       "3                           0         0  >= 70     dead  14.0   \n",
       "4                           0         0  >= 70    alive  12.0   \n",
       "5                           2        47  >= 70     dead   5.0   \n",
       "\n",
       "   primary tumor control    treatment   size metastasis other than CNS  \\\n",
       "id                                                                       \n",
       "1            uncontroled  COP+WBRT+CT  >=3cm                        no   \n",
       "2            uncontroled           CT   <3cm                       yes   \n",
       "3            uncontroled      COP+SRS  >=3cm                       yes   \n",
       "4              controled      COP+SRS  >=3cm                        no   \n",
       "5              controled      WBRT+CT   <3cm                        no   \n",
       "\n",
       "    total_tumor_amount is_single  \n",
       "id                                \n",
       "1                    1    single  \n",
       "2                    3  multiple  \n",
       "3                    2  multiple  \n",
       "4                    1    single  \n",
       "5                    2  multiple  "
      ]
     },
     "execution_count": 16,
     "metadata": {},
     "output_type": "execute_result"
    }
   ],
   "source": [
    "#Recheck the data\n",
    "data.head(5)"
   ]
  },
  {
   "cell_type": "markdown",
   "metadata": {},
   "source": [
    "- While the column \"treatment\" contains a varity of different treatment, we need to seperate them independently."
   ]
  },
  {
   "cell_type": "code",
   "execution_count": 17,
   "metadata": {},
   "outputs": [],
   "source": [
    "# Define a function that creates one column for each treatment, fill \"yes\" or \"no\" as the corresponding value.\n",
    "def classify_treatment(treatments):\n",
    "    for treatment in treatments:\n",
    "        data[treatment] = 'placeholder'\n",
    "        for index, row in data.iterrows():\n",
    "            if treatment in row['treatment']:\n",
    "                data.loc[index,[treatment]] = 'yes'\n",
    "            else:\n",
    "                data.loc[index,[treatment]] = 'no'"
   ]
  },
  {
   "cell_type": "code",
   "execution_count": 18,
   "metadata": {},
   "outputs": [],
   "source": [
    "# Inplement the change.\n",
    "classify_treatment(('COP','WBRT','CT','SRS','POP'))"
   ]
  },
  {
   "cell_type": "code",
   "execution_count": 19,
   "metadata": {},
   "outputs": [
    {
     "data": {
      "text/html": [
       "<div>\n",
       "<style scoped>\n",
       "    .dataframe tbody tr th:only-of-type {\n",
       "        vertical-align: middle;\n",
       "    }\n",
       "\n",
       "    .dataframe tbody tr th {\n",
       "        vertical-align: top;\n",
       "    }\n",
       "\n",
       "    .dataframe thead th {\n",
       "        text-align: right;\n",
       "    }\n",
       "</style>\n",
       "<table border=\"1\" class=\"dataframe\">\n",
       "  <thead>\n",
       "    <tr style=\"text-align: right;\">\n",
       "      <th></th>\n",
       "      <th>age</th>\n",
       "      <th>gender</th>\n",
       "      <th>primary_site</th>\n",
       "      <th>tumor_amount_supratentorial</th>\n",
       "      <th>tumor_amount_subtentorial</th>\n",
       "      <th>duration</th>\n",
       "      <th>KPS</th>\n",
       "      <th>survival</th>\n",
       "      <th>OS</th>\n",
       "      <th>primary tumor control</th>\n",
       "      <th>treatment</th>\n",
       "      <th>size</th>\n",
       "      <th>metastasis other than CNS</th>\n",
       "      <th>total_tumor_amount</th>\n",
       "      <th>is_single</th>\n",
       "      <th>COP</th>\n",
       "      <th>WBRT</th>\n",
       "      <th>CT</th>\n",
       "      <th>SRS</th>\n",
       "      <th>POP</th>\n",
       "    </tr>\n",
       "    <tr>\n",
       "      <th>id</th>\n",
       "      <th></th>\n",
       "      <th></th>\n",
       "      <th></th>\n",
       "      <th></th>\n",
       "      <th></th>\n",
       "      <th></th>\n",
       "      <th></th>\n",
       "      <th></th>\n",
       "      <th></th>\n",
       "      <th></th>\n",
       "      <th></th>\n",
       "      <th></th>\n",
       "      <th></th>\n",
       "      <th></th>\n",
       "      <th></th>\n",
       "      <th></th>\n",
       "      <th></th>\n",
       "      <th></th>\n",
       "      <th></th>\n",
       "      <th></th>\n",
       "    </tr>\n",
       "  </thead>\n",
       "  <tbody>\n",
       "    <tr>\n",
       "      <th>1</th>\n",
       "      <td>76</td>\n",
       "      <td>male</td>\n",
       "      <td>lung</td>\n",
       "      <td>1</td>\n",
       "      <td>0</td>\n",
       "      <td>0</td>\n",
       "      <td>&gt;= 70</td>\n",
       "      <td>alive</td>\n",
       "      <td>5.0</td>\n",
       "      <td>uncontroled</td>\n",
       "      <td>COP+WBRT+CT</td>\n",
       "      <td>&gt;=3cm</td>\n",
       "      <td>no</td>\n",
       "      <td>1</td>\n",
       "      <td>single</td>\n",
       "      <td>yes</td>\n",
       "      <td>yes</td>\n",
       "      <td>yes</td>\n",
       "      <td>no</td>\n",
       "      <td>no</td>\n",
       "    </tr>\n",
       "    <tr>\n",
       "      <th>2</th>\n",
       "      <td>64</td>\n",
       "      <td>male</td>\n",
       "      <td>lung</td>\n",
       "      <td>1</td>\n",
       "      <td>2</td>\n",
       "      <td>6</td>\n",
       "      <td>&gt;= 70</td>\n",
       "      <td>dead</td>\n",
       "      <td>4.0</td>\n",
       "      <td>uncontroled</td>\n",
       "      <td>CT</td>\n",
       "      <td>&lt;3cm</td>\n",
       "      <td>yes</td>\n",
       "      <td>3</td>\n",
       "      <td>multiple</td>\n",
       "      <td>no</td>\n",
       "      <td>no</td>\n",
       "      <td>yes</td>\n",
       "      <td>no</td>\n",
       "      <td>no</td>\n",
       "    </tr>\n",
       "    <tr>\n",
       "      <th>3</th>\n",
       "      <td>31</td>\n",
       "      <td>male</td>\n",
       "      <td>lung</td>\n",
       "      <td>2</td>\n",
       "      <td>0</td>\n",
       "      <td>0</td>\n",
       "      <td>&gt;= 70</td>\n",
       "      <td>dead</td>\n",
       "      <td>14.0</td>\n",
       "      <td>uncontroled</td>\n",
       "      <td>COP+SRS</td>\n",
       "      <td>&gt;=3cm</td>\n",
       "      <td>yes</td>\n",
       "      <td>2</td>\n",
       "      <td>multiple</td>\n",
       "      <td>yes</td>\n",
       "      <td>no</td>\n",
       "      <td>no</td>\n",
       "      <td>yes</td>\n",
       "      <td>no</td>\n",
       "    </tr>\n",
       "    <tr>\n",
       "      <th>4</th>\n",
       "      <td>62</td>\n",
       "      <td>female</td>\n",
       "      <td>lung</td>\n",
       "      <td>1</td>\n",
       "      <td>0</td>\n",
       "      <td>0</td>\n",
       "      <td>&gt;= 70</td>\n",
       "      <td>alive</td>\n",
       "      <td>12.0</td>\n",
       "      <td>controled</td>\n",
       "      <td>COP+SRS</td>\n",
       "      <td>&gt;=3cm</td>\n",
       "      <td>no</td>\n",
       "      <td>1</td>\n",
       "      <td>single</td>\n",
       "      <td>yes</td>\n",
       "      <td>no</td>\n",
       "      <td>no</td>\n",
       "      <td>yes</td>\n",
       "      <td>no</td>\n",
       "    </tr>\n",
       "    <tr>\n",
       "      <th>5</th>\n",
       "      <td>68</td>\n",
       "      <td>female</td>\n",
       "      <td>lung</td>\n",
       "      <td>0</td>\n",
       "      <td>2</td>\n",
       "      <td>47</td>\n",
       "      <td>&gt;= 70</td>\n",
       "      <td>dead</td>\n",
       "      <td>5.0</td>\n",
       "      <td>controled</td>\n",
       "      <td>WBRT+CT</td>\n",
       "      <td>&lt;3cm</td>\n",
       "      <td>no</td>\n",
       "      <td>2</td>\n",
       "      <td>multiple</td>\n",
       "      <td>no</td>\n",
       "      <td>yes</td>\n",
       "      <td>yes</td>\n",
       "      <td>no</td>\n",
       "      <td>no</td>\n",
       "    </tr>\n",
       "  </tbody>\n",
       "</table>\n",
       "</div>"
      ],
      "text/plain": [
       "    age  gender primary_site  tumor_amount_supratentorial  \\\n",
       "id                                                          \n",
       "1    76    male         lung                            1   \n",
       "2    64    male         lung                            1   \n",
       "3    31    male         lung                            2   \n",
       "4    62  female         lung                            1   \n",
       "5    68  female         lung                            0   \n",
       "\n",
       "    tumor_amount_subtentorial  duration    KPS survival    OS  \\\n",
       "id                                                              \n",
       "1                           0         0  >= 70    alive   5.0   \n",
       "2                           2         6  >= 70     dead   4.0   \n",
       "3                           0         0  >= 70     dead  14.0   \n",
       "4                           0         0  >= 70    alive  12.0   \n",
       "5                           2        47  >= 70     dead   5.0   \n",
       "\n",
       "   primary tumor control    treatment   size metastasis other than CNS  \\\n",
       "id                                                                       \n",
       "1            uncontroled  COP+WBRT+CT  >=3cm                        no   \n",
       "2            uncontroled           CT   <3cm                       yes   \n",
       "3            uncontroled      COP+SRS  >=3cm                       yes   \n",
       "4              controled      COP+SRS  >=3cm                        no   \n",
       "5              controled      WBRT+CT   <3cm                        no   \n",
       "\n",
       "    total_tumor_amount is_single  COP WBRT   CT  SRS POP  \n",
       "id                                                        \n",
       "1                    1    single  yes  yes  yes   no  no  \n",
       "2                    3  multiple   no   no  yes   no  no  \n",
       "3                    2  multiple  yes   no   no  yes  no  \n",
       "4                    1    single  yes   no   no  yes  no  \n",
       "5                    2  multiple   no  yes  yes   no  no  "
      ]
     },
     "execution_count": 19,
     "metadata": {},
     "output_type": "execute_result"
    }
   ],
   "source": [
    "# Recheck the data\n",
    "data.head() "
   ]
  },
  {
   "cell_type": "markdown",
   "metadata": {},
   "source": [
    "- To find out the relationship between risk factors and overall survival time, I would like to remove the alive patients' data, and set dummy variables for gender，primary_site, KPS score, primary tumor control,and treatments."
   ]
  },
  {
   "cell_type": "code",
   "execution_count": 20,
   "metadata": {},
   "outputs": [],
   "source": [
    "#Create another dataframe 'data_dead' to restore the patients who had been already dead.\n",
    "data_dead = data[data['survival'] == 'dead']"
   ]
  },
  {
   "cell_type": "code",
   "execution_count": 21,
   "metadata": {},
   "outputs": [],
   "source": [
    "# Delete the column 'surevival', because all of the patients were dead.\n",
    "del data_dead['survival']"
   ]
  },
  {
   "cell_type": "code",
   "execution_count": 22,
   "metadata": {},
   "outputs": [],
   "source": [
    "# In order to build a model to see the correlation between factors and to predict the prognosis, I change the categorical variables back to number.\n",
    "num_labels = [('gender',{ 'male': 1,'female': 0}),('KPS', { '>= 70': 1,  '<70': 0}),('primary tumor control',{ 'controled':1, 'uncontroled':0}),('size',{'<3cm':0, '>=3cm':1}),\n",
    "          ('metastasis other than CNS',{ 'yes':1, 'no':0}),('is_single',{'single':1, 'multiple':0}),('COP',{'yes':1, 'no':0}),('WBRT',{'yes':1, 'no':0}),('CT',{'yes':1, 'no':0}),('SRS',{'yes':1, 'no':0}),('POP',{'yes':1, 'no':0})]"
   ]
  },
  {
   "cell_type": "code",
   "execution_count": 23,
   "metadata": {},
   "outputs": [
    {
     "name": "stderr",
     "output_type": "stream",
     "text": [
      "C:\\Users\\freat\\AppData\\Local\\conda\\conda\\envs\\dog-project\\lib\\site-packages\\ipykernel\\__main__.py:3: SettingWithCopyWarning: \n",
      "A value is trying to be set on a copy of a slice from a DataFrame.\n",
      "Try using .loc[row_indexer,col_indexer] = value instead\n",
      "\n",
      "See the caveats in the documentation: http://pandas.pydata.org/pandas-docs/stable/indexing.html#indexing-view-versus-copy\n",
      "  app.launch_new_instance()\n"
     ]
    }
   ],
   "source": [
    "# Inplement the change.\n",
    "for item in num_labels:\n",
    "    data_dead[item[0]] = data[item[0]].replace(item[1])"
   ]
  },
  {
   "cell_type": "code",
   "execution_count": 24,
   "metadata": {},
   "outputs": [],
   "source": [
    "# As the column of 'treatment' has already been labeled by seperate colunms, we delete it.\n",
    "del data_dead['treatment']"
   ]
  },
  {
   "cell_type": "code",
   "execution_count": 25,
   "metadata": {},
   "outputs": [
    {
     "data": {
      "text/html": [
       "<div>\n",
       "<style scoped>\n",
       "    .dataframe tbody tr th:only-of-type {\n",
       "        vertical-align: middle;\n",
       "    }\n",
       "\n",
       "    .dataframe tbody tr th {\n",
       "        vertical-align: top;\n",
       "    }\n",
       "\n",
       "    .dataframe thead th {\n",
       "        text-align: right;\n",
       "    }\n",
       "</style>\n",
       "<table border=\"1\" class=\"dataframe\">\n",
       "  <thead>\n",
       "    <tr style=\"text-align: right;\">\n",
       "      <th></th>\n",
       "      <th>age</th>\n",
       "      <th>gender</th>\n",
       "      <th>primary_site</th>\n",
       "      <th>tumor_amount_supratentorial</th>\n",
       "      <th>tumor_amount_subtentorial</th>\n",
       "      <th>duration</th>\n",
       "      <th>KPS</th>\n",
       "      <th>OS</th>\n",
       "      <th>primary tumor control</th>\n",
       "      <th>size</th>\n",
       "      <th>metastasis other than CNS</th>\n",
       "      <th>total_tumor_amount</th>\n",
       "      <th>is_single</th>\n",
       "      <th>COP</th>\n",
       "      <th>WBRT</th>\n",
       "      <th>CT</th>\n",
       "      <th>SRS</th>\n",
       "      <th>POP</th>\n",
       "    </tr>\n",
       "    <tr>\n",
       "      <th>id</th>\n",
       "      <th></th>\n",
       "      <th></th>\n",
       "      <th></th>\n",
       "      <th></th>\n",
       "      <th></th>\n",
       "      <th></th>\n",
       "      <th></th>\n",
       "      <th></th>\n",
       "      <th></th>\n",
       "      <th></th>\n",
       "      <th></th>\n",
       "      <th></th>\n",
       "      <th></th>\n",
       "      <th></th>\n",
       "      <th></th>\n",
       "      <th></th>\n",
       "      <th></th>\n",
       "      <th></th>\n",
       "    </tr>\n",
       "  </thead>\n",
       "  <tbody>\n",
       "    <tr>\n",
       "      <th>2</th>\n",
       "      <td>64</td>\n",
       "      <td>1</td>\n",
       "      <td>lung</td>\n",
       "      <td>1</td>\n",
       "      <td>2</td>\n",
       "      <td>6</td>\n",
       "      <td>1</td>\n",
       "      <td>4.0</td>\n",
       "      <td>0</td>\n",
       "      <td>0</td>\n",
       "      <td>1</td>\n",
       "      <td>3</td>\n",
       "      <td>0</td>\n",
       "      <td>0</td>\n",
       "      <td>0</td>\n",
       "      <td>1</td>\n",
       "      <td>0</td>\n",
       "      <td>0</td>\n",
       "    </tr>\n",
       "    <tr>\n",
       "      <th>3</th>\n",
       "      <td>31</td>\n",
       "      <td>1</td>\n",
       "      <td>lung</td>\n",
       "      <td>2</td>\n",
       "      <td>0</td>\n",
       "      <td>0</td>\n",
       "      <td>1</td>\n",
       "      <td>14.0</td>\n",
       "      <td>0</td>\n",
       "      <td>1</td>\n",
       "      <td>1</td>\n",
       "      <td>2</td>\n",
       "      <td>0</td>\n",
       "      <td>1</td>\n",
       "      <td>0</td>\n",
       "      <td>0</td>\n",
       "      <td>1</td>\n",
       "      <td>0</td>\n",
       "    </tr>\n",
       "    <tr>\n",
       "      <th>5</th>\n",
       "      <td>68</td>\n",
       "      <td>0</td>\n",
       "      <td>lung</td>\n",
       "      <td>0</td>\n",
       "      <td>2</td>\n",
       "      <td>47</td>\n",
       "      <td>1</td>\n",
       "      <td>5.0</td>\n",
       "      <td>1</td>\n",
       "      <td>0</td>\n",
       "      <td>0</td>\n",
       "      <td>2</td>\n",
       "      <td>0</td>\n",
       "      <td>0</td>\n",
       "      <td>1</td>\n",
       "      <td>1</td>\n",
       "      <td>0</td>\n",
       "      <td>0</td>\n",
       "    </tr>\n",
       "    <tr>\n",
       "      <th>6</th>\n",
       "      <td>54</td>\n",
       "      <td>1</td>\n",
       "      <td>lung</td>\n",
       "      <td>1</td>\n",
       "      <td>0</td>\n",
       "      <td>0</td>\n",
       "      <td>0</td>\n",
       "      <td>0.5</td>\n",
       "      <td>0</td>\n",
       "      <td>0</td>\n",
       "      <td>0</td>\n",
       "      <td>1</td>\n",
       "      <td>1</td>\n",
       "      <td>0</td>\n",
       "      <td>0</td>\n",
       "      <td>0</td>\n",
       "      <td>0</td>\n",
       "      <td>0</td>\n",
       "    </tr>\n",
       "    <tr>\n",
       "      <th>8</th>\n",
       "      <td>70</td>\n",
       "      <td>0</td>\n",
       "      <td>lung</td>\n",
       "      <td>3</td>\n",
       "      <td>0</td>\n",
       "      <td>18</td>\n",
       "      <td>1</td>\n",
       "      <td>2.0</td>\n",
       "      <td>0</td>\n",
       "      <td>0</td>\n",
       "      <td>0</td>\n",
       "      <td>3</td>\n",
       "      <td>0</td>\n",
       "      <td>0</td>\n",
       "      <td>0</td>\n",
       "      <td>0</td>\n",
       "      <td>0</td>\n",
       "      <td>0</td>\n",
       "    </tr>\n",
       "  </tbody>\n",
       "</table>\n",
       "</div>"
      ],
      "text/plain": [
       "    age  gender primary_site  tumor_amount_supratentorial  \\\n",
       "id                                                          \n",
       "2    64       1         lung                            1   \n",
       "3    31       1         lung                            2   \n",
       "5    68       0         lung                            0   \n",
       "6    54       1         lung                            1   \n",
       "8    70       0         lung                            3   \n",
       "\n",
       "    tumor_amount_subtentorial  duration  KPS    OS  primary tumor control  \\\n",
       "id                                                                          \n",
       "2                           2         6    1   4.0                      0   \n",
       "3                           0         0    1  14.0                      0   \n",
       "5                           2        47    1   5.0                      1   \n",
       "6                           0         0    0   0.5                      0   \n",
       "8                           0        18    1   2.0                      0   \n",
       "\n",
       "    size  metastasis other than CNS  total_tumor_amount  is_single  COP  WBRT  \\\n",
       "id                                                                              \n",
       "2      0                          1                   3          0    0     0   \n",
       "3      1                          1                   2          0    1     0   \n",
       "5      0                          0                   2          0    0     1   \n",
       "6      0                          0                   1          1    0     0   \n",
       "8      0                          0                   3          0    0     0   \n",
       "\n",
       "    CT  SRS  POP  \n",
       "id                \n",
       "2    1    0    0  \n",
       "3    0    1    0  \n",
       "5    1    0    0  \n",
       "6    0    0    0  \n",
       "8    0    0    0  "
      ]
     },
     "execution_count": 25,
     "metadata": {},
     "output_type": "execute_result"
    }
   ],
   "source": [
    "#Recheck the data.\n",
    "data_dead.head()"
   ]
  },
  {
   "cell_type": "code",
   "execution_count": 26,
   "metadata": {},
   "outputs": [],
   "source": [
    "# Get dummy variables for primary site.\n",
    "dummies = pd.get_dummies(data_dead['primary_site'])"
   ]
  },
  {
   "cell_type": "code",
   "execution_count": 27,
   "metadata": {},
   "outputs": [],
   "source": [
    "# Merge these two dataframe together.\n",
    "data_dead = pd.merge(data_dead, dummies, how='left', on='id')"
   ]
  },
  {
   "cell_type": "code",
   "execution_count": 28,
   "metadata": {},
   "outputs": [],
   "source": [
    "# delete the primary site column.\n",
    "del data_dead['primary_site']"
   ]
  },
  {
   "cell_type": "code",
   "execution_count": 29,
   "metadata": {},
   "outputs": [],
   "source": [
    "# Create a new column called 'age_group' which seperate the patients with age greater than 65 years apart.\n",
    "data_dead['age_group'] = '_'\n",
    "for index, row in data_dead.iterrows():\n",
    "            if row['age'] < 65:\n",
    "                data_dead.loc[index,['age_group']] = 0\n",
    "            else:\n",
    "                data_dead.loc[index,['age_group']] = 1"
   ]
  },
  {
   "cell_type": "code",
   "execution_count": 30,
   "metadata": {},
   "outputs": [],
   "source": [
    "# Delete the age column.\n",
    "del data_dead['age']"
   ]
  },
  {
   "cell_type": "code",
   "execution_count": 31,
   "metadata": {},
   "outputs": [
    {
     "data": {
      "text/html": [
       "<div>\n",
       "<style scoped>\n",
       "    .dataframe tbody tr th:only-of-type {\n",
       "        vertical-align: middle;\n",
       "    }\n",
       "\n",
       "    .dataframe tbody tr th {\n",
       "        vertical-align: top;\n",
       "    }\n",
       "\n",
       "    .dataframe thead th {\n",
       "        text-align: right;\n",
       "    }\n",
       "</style>\n",
       "<table border=\"1\" class=\"dataframe\">\n",
       "  <thead>\n",
       "    <tr style=\"text-align: right;\">\n",
       "      <th></th>\n",
       "      <th>gender</th>\n",
       "      <th>tumor_amount_supratentorial</th>\n",
       "      <th>tumor_amount_subtentorial</th>\n",
       "      <th>duration</th>\n",
       "      <th>KPS</th>\n",
       "      <th>OS</th>\n",
       "      <th>primary tumor control</th>\n",
       "      <th>size</th>\n",
       "      <th>metastasis other than CNS</th>\n",
       "      <th>total_tumor_amount</th>\n",
       "      <th>...</th>\n",
       "      <th>SRS</th>\n",
       "      <th>POP</th>\n",
       "      <th>breast</th>\n",
       "      <th>colon</th>\n",
       "      <th>kidney</th>\n",
       "      <th>lung</th>\n",
       "      <th>lymphoma</th>\n",
       "      <th>others</th>\n",
       "      <th>rectum</th>\n",
       "      <th>age_group</th>\n",
       "    </tr>\n",
       "    <tr>\n",
       "      <th>id</th>\n",
       "      <th></th>\n",
       "      <th></th>\n",
       "      <th></th>\n",
       "      <th></th>\n",
       "      <th></th>\n",
       "      <th></th>\n",
       "      <th></th>\n",
       "      <th></th>\n",
       "      <th></th>\n",
       "      <th></th>\n",
       "      <th></th>\n",
       "      <th></th>\n",
       "      <th></th>\n",
       "      <th></th>\n",
       "      <th></th>\n",
       "      <th></th>\n",
       "      <th></th>\n",
       "      <th></th>\n",
       "      <th></th>\n",
       "      <th></th>\n",
       "      <th></th>\n",
       "    </tr>\n",
       "  </thead>\n",
       "  <tbody>\n",
       "    <tr>\n",
       "      <th>2</th>\n",
       "      <td>1</td>\n",
       "      <td>1</td>\n",
       "      <td>2</td>\n",
       "      <td>6</td>\n",
       "      <td>1</td>\n",
       "      <td>4.0</td>\n",
       "      <td>0</td>\n",
       "      <td>0</td>\n",
       "      <td>1</td>\n",
       "      <td>3</td>\n",
       "      <td>...</td>\n",
       "      <td>0</td>\n",
       "      <td>0</td>\n",
       "      <td>0</td>\n",
       "      <td>0</td>\n",
       "      <td>0</td>\n",
       "      <td>1</td>\n",
       "      <td>0</td>\n",
       "      <td>0</td>\n",
       "      <td>0</td>\n",
       "      <td>0</td>\n",
       "    </tr>\n",
       "    <tr>\n",
       "      <th>3</th>\n",
       "      <td>1</td>\n",
       "      <td>2</td>\n",
       "      <td>0</td>\n",
       "      <td>0</td>\n",
       "      <td>1</td>\n",
       "      <td>14.0</td>\n",
       "      <td>0</td>\n",
       "      <td>1</td>\n",
       "      <td>1</td>\n",
       "      <td>2</td>\n",
       "      <td>...</td>\n",
       "      <td>1</td>\n",
       "      <td>0</td>\n",
       "      <td>0</td>\n",
       "      <td>0</td>\n",
       "      <td>0</td>\n",
       "      <td>1</td>\n",
       "      <td>0</td>\n",
       "      <td>0</td>\n",
       "      <td>0</td>\n",
       "      <td>0</td>\n",
       "    </tr>\n",
       "    <tr>\n",
       "      <th>5</th>\n",
       "      <td>0</td>\n",
       "      <td>0</td>\n",
       "      <td>2</td>\n",
       "      <td>47</td>\n",
       "      <td>1</td>\n",
       "      <td>5.0</td>\n",
       "      <td>1</td>\n",
       "      <td>0</td>\n",
       "      <td>0</td>\n",
       "      <td>2</td>\n",
       "      <td>...</td>\n",
       "      <td>0</td>\n",
       "      <td>0</td>\n",
       "      <td>0</td>\n",
       "      <td>0</td>\n",
       "      <td>0</td>\n",
       "      <td>1</td>\n",
       "      <td>0</td>\n",
       "      <td>0</td>\n",
       "      <td>0</td>\n",
       "      <td>1</td>\n",
       "    </tr>\n",
       "    <tr>\n",
       "      <th>6</th>\n",
       "      <td>1</td>\n",
       "      <td>1</td>\n",
       "      <td>0</td>\n",
       "      <td>0</td>\n",
       "      <td>0</td>\n",
       "      <td>0.5</td>\n",
       "      <td>0</td>\n",
       "      <td>0</td>\n",
       "      <td>0</td>\n",
       "      <td>1</td>\n",
       "      <td>...</td>\n",
       "      <td>0</td>\n",
       "      <td>0</td>\n",
       "      <td>0</td>\n",
       "      <td>0</td>\n",
       "      <td>0</td>\n",
       "      <td>1</td>\n",
       "      <td>0</td>\n",
       "      <td>0</td>\n",
       "      <td>0</td>\n",
       "      <td>0</td>\n",
       "    </tr>\n",
       "    <tr>\n",
       "      <th>8</th>\n",
       "      <td>0</td>\n",
       "      <td>3</td>\n",
       "      <td>0</td>\n",
       "      <td>18</td>\n",
       "      <td>1</td>\n",
       "      <td>2.0</td>\n",
       "      <td>0</td>\n",
       "      <td>0</td>\n",
       "      <td>0</td>\n",
       "      <td>3</td>\n",
       "      <td>...</td>\n",
       "      <td>0</td>\n",
       "      <td>0</td>\n",
       "      <td>0</td>\n",
       "      <td>0</td>\n",
       "      <td>0</td>\n",
       "      <td>1</td>\n",
       "      <td>0</td>\n",
       "      <td>0</td>\n",
       "      <td>0</td>\n",
       "      <td>1</td>\n",
       "    </tr>\n",
       "  </tbody>\n",
       "</table>\n",
       "<p>5 rows × 24 columns</p>\n",
       "</div>"
      ],
      "text/plain": [
       "    gender  tumor_amount_supratentorial  tumor_amount_subtentorial  duration  \\\n",
       "id                                                                             \n",
       "2        1                            1                          2         6   \n",
       "3        1                            2                          0         0   \n",
       "5        0                            0                          2        47   \n",
       "6        1                            1                          0         0   \n",
       "8        0                            3                          0        18   \n",
       "\n",
       "    KPS    OS  primary tumor control  size  metastasis other than CNS  \\\n",
       "id                                                                      \n",
       "2     1   4.0                      0     0                          1   \n",
       "3     1  14.0                      0     1                          1   \n",
       "5     1   5.0                      1     0                          0   \n",
       "6     0   0.5                      0     0                          0   \n",
       "8     1   2.0                      0     0                          0   \n",
       "\n",
       "    total_tumor_amount    ...      SRS  POP  breast  colon  kidney  lung  \\\n",
       "id                        ...                                              \n",
       "2                    3    ...        0    0       0      0       0     1   \n",
       "3                    2    ...        1    0       0      0       0     1   \n",
       "5                    2    ...        0    0       0      0       0     1   \n",
       "6                    1    ...        0    0       0      0       0     1   \n",
       "8                    3    ...        0    0       0      0       0     1   \n",
       "\n",
       "    lymphoma  others  rectum  age_group  \n",
       "id                                       \n",
       "2          0       0       0          0  \n",
       "3          0       0       0          0  \n",
       "5          0       0       0          1  \n",
       "6          0       0       0          0  \n",
       "8          0       0       0          1  \n",
       "\n",
       "[5 rows x 24 columns]"
      ]
     },
     "execution_count": 31,
     "metadata": {},
     "output_type": "execute_result"
    }
   ],
   "source": [
    "# Recheck the data.\n",
    "data_dead.head()"
   ]
  },
  {
   "cell_type": "markdown",
   "metadata": {},
   "source": [
    "## 4.  Model Data"
   ]
  },
  {
   "cell_type": "markdown",
   "metadata": {},
   "source": [
    "In this section, I will try to analysis our data, and try to answer some questions."
   ]
  },
  {
   "cell_type": "markdown",
   "metadata": {},
   "source": [
    "#### Question 1: What can be found through the basic character of brain metastases?"
   ]
  },
  {
   "cell_type": "markdown",
   "metadata": {},
   "source": [
    "- Distribution of Age at the onset of the disease"
   ]
  },
  {
   "cell_type": "code",
   "execution_count": 32,
   "metadata": {},
   "outputs": [
    {
     "data": {
      "text/plain": [
       "count    90.000000\n",
       "mean     61.544444\n",
       "std      13.819186\n",
       "min      26.000000\n",
       "25%      54.000000\n",
       "50%      64.000000\n",
       "75%      71.750000\n",
       "max      88.000000\n",
       "Name: age, dtype: float64"
      ]
     },
     "execution_count": 32,
     "metadata": {},
     "output_type": "execute_result"
    }
   ],
   "source": [
    "raw_data['age'].describe()"
   ]
  },
  {
   "cell_type": "code",
   "execution_count": 33,
   "metadata": {},
   "outputs": [
    {
     "data": {
      "text/plain": [
       "Text(0.5,1,'Distribution of Age at the onset of the disease')"
      ]
     },
     "execution_count": 33,
     "metadata": {},
     "output_type": "execute_result"
    },
    {
     "data": {
      "image/png": "[encoded data removed]",
      "text/plain": [
       "<Figure size 432x288 with 1 Axes>"
      ]
     },
     "metadata": {},
     "output_type": "display_data"
    }
   ],
   "source": [
    "sns.violinplot(x=data[\"age\"],data=data) \n",
    "plt.title('Distribution of Age at the onset of the disease')"
   ]
  },
  {
   "cell_type": "markdown",
   "metadata": {},
   "source": [
    "<u> ** From this we know that the median age at which the disease occur is 61.5. We should pay attention to this disease after 55 years old.**  </u>"
   ]
  },
  {
   "cell_type": "markdown",
   "metadata": {},
   "source": [
    "- Gender distribution."
   ]
  },
  {
   "cell_type": "code",
   "execution_count": 34,
   "metadata": {},
   "outputs": [
    {
     "data": {
      "text/plain": [
       "Text(0.5,1,'Gender distribution')"
      ]
     },
     "execution_count": 34,
     "metadata": {},
     "output_type": "execute_result"
    },
    {
     "data": {
      "image/png": "[encoded data removed]",
      "text/plain": [
       "<Figure size 432x288 with 1 Axes>"
      ]
     },
     "metadata": {},
     "output_type": "display_data"
    }
   ],
   "source": [
    "data.gender.value_counts().plot(kind = 'bar')\n",
    "plt.title('Gender distribution')"
   ]
  },
  {
   "cell_type": "markdown",
   "metadata": {},
   "source": [
    "<u> **Male individuals is relatively more than female.**</u>"
   ]
  },
  {
   "cell_type": "markdown",
   "metadata": {},
   "source": [
    "- Primary tumor distribution."
   ]
  },
  {
   "cell_type": "code",
   "execution_count": 35,
   "metadata": {},
   "outputs": [
    {
     "data": {
      "text/plain": [
       "Text(0.5,1,'Primary tumor distribution')"
      ]
     },
     "execution_count": 35,
     "metadata": {},
     "output_type": "execute_result"
    },
    {
     "data": {
      "image/png": "[encoded data removed]",
      "text/plain": [
       "<Figure size 432x288 with 1 Axes>"
      ]
     },
     "metadata": {},
     "output_type": "display_data"
    }
   ],
   "source": [
    "data.primary_site.value_counts().plot(kind = 'bar')\n",
    "plt.title('Primary tumor distribution')"
   ]
  },
  {
   "cell_type": "markdown",
   "metadata": {},
   "source": [
    "<u>**Nearly 60% of brain metastases is caused by lung cancer!**</u>"
   ]
  },
  {
   "cell_type": "markdown",
   "metadata": {},
   "source": [
    "- How long dose the primary tumor need to generate brain metastasis?"
   ]
  },
  {
   "cell_type": "code",
   "execution_count": 36,
   "metadata": {},
   "outputs": [
    {
     "data": {
      "text/plain": [
       "count     90.000000\n",
       "mean      15.166667\n",
       "std       23.044778\n",
       "min        0.000000\n",
       "25%        0.000000\n",
       "50%        6.000000\n",
       "75%       23.000000\n",
       "max      118.000000\n",
       "Name: duration, dtype: float64"
      ]
     },
     "execution_count": 36,
     "metadata": {},
     "output_type": "execute_result"
    }
   ],
   "source": [
    "data['duration'].describe()"
   ]
  },
  {
   "cell_type": "code",
   "execution_count": 37,
   "metadata": {},
   "outputs": [
    {
     "data": {
      "text/plain": [
       "(array([57., 11.,  8.,  6.,  2.,  1.,  3.,  1.,  0.,  1.]),\n",
       " array([  0. ,  11.8,  23.6,  35.4,  47.2,  59. ,  70.8,  82.6,  94.4,\n",
       "        106.2, 118. ]),\n",
       " <a list of 10 Patch objects>)"
      ]
     },
     "execution_count": 37,
     "metadata": {},
     "output_type": "execute_result"
    },
    {
     "data": {
      "image/png": "[encoded data removed]",
      "text/plain": [
       "<Figure size 432x288 with 1 Axes>"
      ]
     },
     "metadata": {},
     "output_type": "display_data"
    }
   ],
   "source": [
    "plt.hist(data['duration'])"
   ]
  },
  {
   "cell_type": "code",
   "execution_count": 38,
   "metadata": {},
   "outputs": [
    {
     "data": {
      "text/plain": [
       "<matplotlib.axes._subplots.AxesSubplot at 0x23accc8f5f8>"
      ]
     },
     "execution_count": 38,
     "metadata": {},
     "output_type": "execute_result"
    },
    {
     "data": {
      "image/png": "[encoded data removed]",
      "text/plain": [
       "<Figure size 432x288 with 1 Axes>"
      ]
     },
     "metadata": {},
     "output_type": "display_data"
    }
   ],
   "source": [
    "sns.violinplot(x=data['duration'],data=data)"
   ]
  },
  {
   "cell_type": "code",
   "execution_count": 39,
   "metadata": {},
   "outputs": [
    {
     "data": {
      "text/plain": [
       "Text(0.5,1,'Different duration grouped by different primary site')"
      ]
     },
     "execution_count": 39,
     "metadata": {},
     "output_type": "execute_result"
    },
    {
     "data": {
      "image/png": "[encoded data removed]",
      "text/plain": [
       "<Figure size 432x288 with 1 Axes>"
      ]
     },
     "metadata": {},
     "output_type": "display_data"
    }
   ],
   "source": [
    "data.groupby('primary_site')['duration'].median().plot(kind='bar')\n",
    "plt.title('Different duration grouped by different primary site')"
   ]
  },
  {
   "cell_type": "markdown",
   "metadata": {},
   "source": [
    "<u>**Surprisingly, the median duration a tumor need to generate a brain metastasis is only 15 months. There is a large number of patients whose duration is 0, which means that they even don't know they've got a system tumor before they found the brain metastasis.The lung carcinoma is quite easy to cause brain metastases by a vary short period of time!**</u>"
   ]
  },
  {
   "cell_type": "markdown",
   "metadata": {},
   "source": [
    "- Dose brain metastasis tend to be singel or multiple?"
   ]
  },
  {
   "cell_type": "code",
   "execution_count": 40,
   "metadata": {},
   "outputs": [
    {
     "data": {
      "text/plain": [
       "<matplotlib.axes._subplots.AxesSubplot at 0x23accd13c88>"
      ]
     },
     "execution_count": 40,
     "metadata": {},
     "output_type": "execute_result"
    },
    {
     "data": {
      "image/png": "[encoded data removed]",
      "text/plain": [
       "<Figure size 432x288 with 1 Axes>"
      ]
     },
     "metadata": {},
     "output_type": "display_data"
    }
   ],
   "source": [
    "data.is_single.value_counts().plot(kind = 'bar')"
   ]
  },
  {
   "cell_type": "markdown",
   "metadata": {},
   "source": [
    "<u>**Here, we can see that although most brain metastases are single, there is still a large portion of metastases are multiple. This is a big difference from the primayr malignent tumor in the CNS systme(such as gliomas).**</u>"
   ]
  },
  {
   "cell_type": "markdown",
   "metadata": {},
   "source": [
    "- How about the size of the tumor?"
   ]
  },
  {
   "cell_type": "code",
   "execution_count": 41,
   "metadata": {},
   "outputs": [
    {
     "data": {
      "text/plain": [
       "<matplotlib.axes._subplots.AxesSubplot at 0x23accd475c0>"
      ]
     },
     "execution_count": 41,
     "metadata": {},
     "output_type": "execute_result"
    },
    {
     "data": {
      "image/png": "[encoded data removed]",
      "text/plain": [
       "<Figure size 432x288 with 1 Axes>"
      ]
     },
     "metadata": {},
     "output_type": "display_data"
    }
   ],
   "source": [
    "data['size'].value_counts().plot(kind='bar')"
   ]
  },
  {
   "cell_type": "markdown",
   "metadata": {},
   "source": [
    "Although we haven't found any obvious difference of the tumor size, but actually I have to tell you that most of the tumor located in brain is larger than 3 cm, because the tumor has to be big enough to increase the intracranial pressure and cause symptoms.The edema around the metastic lessions is often more severe than the primary CNS tumor. That's why so many small lession can also be noticed and found."
   ]
  },
  {
   "cell_type": "markdown",
   "metadata": {},
   "source": [
    "- How about the quality of life when the onset of the disease?"
   ]
  },
  {
   "cell_type": "code",
   "execution_count": 42,
   "metadata": {},
   "outputs": [
    {
     "data": {
      "text/plain": [
       "<matplotlib.axes._subplots.AxesSubplot at 0x23acdd4e3c8>"
      ]
     },
     "execution_count": 42,
     "metadata": {},
     "output_type": "execute_result"
    },
    {
     "data": {
      "image/png": "[encoded data removed]",
      "text/plain": [
       "<Figure size 432x288 with 1 Axes>"
      ]
     },
     "metadata": {},
     "output_type": "display_data"
    }
   ],
   "source": [
    "data['KPS'].value_counts().plot(kind='bar')"
   ]
  },
  {
   "cell_type": "markdown",
   "metadata": {},
   "source": [
    "<U>**Altough brain metastasis is a disastrous disease, most people can take care of themselves independently at the initial period of the time. **</U>"
   ]
  },
  {
   "cell_type": "markdown",
   "metadata": {},
   "source": [
    "- How long can a patient live after the onset of brain metastasis."
   ]
  },
  {
   "cell_type": "markdown",
   "metadata": {},
   "source": [
    "Notice that some patients were still alive when we collected these data, they would live longer than we recorded.So we need to remove the alive-data, to make sure that every overall survival time is correct."
   ]
  },
  {
   "cell_type": "code",
   "execution_count": 43,
   "metadata": {},
   "outputs": [
    {
     "data": {
      "text/plain": [
       "count    70.000000\n",
       "mean      8.102857\n",
       "std       7.837276\n",
       "min       0.200000\n",
       "25%       2.000000\n",
       "50%       5.500000\n",
       "75%      12.000000\n",
       "max      36.000000\n",
       "Name: OS, dtype: float64"
      ]
     },
     "execution_count": 43,
     "metadata": {},
     "output_type": "execute_result"
    }
   ],
   "source": [
    "data_dead.OS.describe()"
   ]
  },
  {
   "cell_type": "code",
   "execution_count": 44,
   "metadata": {},
   "outputs": [
    {
     "data": {
      "text/plain": [
       "(array([26., 16.,  4., 13.,  3.,  3.,  3.,  0.,  1.,  1.]),\n",
       " array([ 0.2 ,  3.78,  7.36, 10.94, 14.52, 18.1 , 21.68, 25.26, 28.84,\n",
       "        32.42, 36.  ]),\n",
       " <a list of 10 Patch objects>)"
      ]
     },
     "execution_count": 44,
     "metadata": {},
     "output_type": "execute_result"
    },
    {
     "data": {
      "image/png": "[encoded data removed]",
      "text/plain": [
       "<Figure size 432x288 with 1 Axes>"
      ]
     },
     "metadata": {},
     "output_type": "display_data"
    }
   ],
   "source": [
    "plt.hist(data_dead.OS)"
   ]
  },
  {
   "cell_type": "code",
   "execution_count": 46,
   "metadata": {},
   "outputs": [
    {
     "data": {
      "text/plain": [
       "<matplotlib.axes._subplots.AxesSubplot at 0x23acddd3c18>"
      ]
     },
     "execution_count": 46,
     "metadata": {},
     "output_type": "execute_result"
    },
    {
     "data": {
      "image/png": "[encoded data removed]",
      "text/plain": [
       "<Figure size 432x288 with 1 Axes>"
      ]
     },
     "metadata": {},
     "output_type": "display_data"
    }
   ],
   "source": [
    "sns.violinplot(x=data_dead.OS, data=data_dead)"
   ]
  },
  {
   "cell_type": "markdown",
   "metadata": {},
   "source": [
    "<u>**The prognosis of brain metastasis is extremely poor for most patient can't live longer than 1 year. The median survival time is only 5.5 months!**</u>"
   ]
  },
  {
   "cell_type": "markdown",
   "metadata": {},
   "source": [
    "#### Question 2: which factors can affect the prognosis of brain metastases patients?\n",
    "- To anwser this question, we need to find the correlation between the risk factors and find out which factors are strongly associated with overall survival time."
   ]
  },
  {
   "cell_type": "code",
   "execution_count": 47,
   "metadata": {},
   "outputs": [
    {
     "data": {
      "text/html": [
       "<div>\n",
       "<style scoped>\n",
       "    .dataframe tbody tr th:only-of-type {\n",
       "        vertical-align: middle;\n",
       "    }\n",
       "\n",
       "    .dataframe tbody tr th {\n",
       "        vertical-align: top;\n",
       "    }\n",
       "\n",
       "    .dataframe thead th {\n",
       "        text-align: right;\n",
       "    }\n",
       "</style>\n",
       "<table border=\"1\" class=\"dataframe\">\n",
       "  <thead>\n",
       "    <tr style=\"text-align: right;\">\n",
       "      <th></th>\n",
       "      <th>gender</th>\n",
       "      <th>tumor_amount_supratentorial</th>\n",
       "      <th>tumor_amount_subtentorial</th>\n",
       "      <th>duration</th>\n",
       "      <th>KPS</th>\n",
       "      <th>OS</th>\n",
       "      <th>primary tumor control</th>\n",
       "      <th>size</th>\n",
       "      <th>metastasis other than CNS</th>\n",
       "      <th>total_tumor_amount</th>\n",
       "      <th>...</th>\n",
       "      <th>SRS</th>\n",
       "      <th>POP</th>\n",
       "      <th>breast</th>\n",
       "      <th>colon</th>\n",
       "      <th>kidney</th>\n",
       "      <th>lung</th>\n",
       "      <th>lymphoma</th>\n",
       "      <th>others</th>\n",
       "      <th>rectum</th>\n",
       "      <th>age_group</th>\n",
       "    </tr>\n",
       "  </thead>\n",
       "  <tbody>\n",
       "    <tr>\n",
       "      <th>gender</th>\n",
       "      <td>1.000000</td>\n",
       "      <td>2.635561e-02</td>\n",
       "      <td>-0.039567</td>\n",
       "      <td>0.015703</td>\n",
       "      <td>-0.176335</td>\n",
       "      <td>-0.068732</td>\n",
       "      <td>-2.541643e-02</td>\n",
       "      <td>0.097628</td>\n",
       "      <td>-0.120700</td>\n",
       "      <td>-0.007351</td>\n",
       "      <td>...</td>\n",
       "      <td>0.015899</td>\n",
       "      <td>0.032949</td>\n",
       "      <td>-4.206599e-01</td>\n",
       "      <td>-0.040266</td>\n",
       "      <td>-8.139772e-03</td>\n",
       "      <td>0.203331</td>\n",
       "      <td>-0.040266</td>\n",
       "      <td>-2.934836e-02</td>\n",
       "      <td>0.166307</td>\n",
       "      <td>0.025416</td>\n",
       "    </tr>\n",
       "    <tr>\n",
       "      <th>tumor_amount_supratentorial</th>\n",
       "      <td>0.026356</td>\n",
       "      <td>1.000000e+00</td>\n",
       "      <td>-0.085462</td>\n",
       "      <td>-0.144606</td>\n",
       "      <td>0.266942</td>\n",
       "      <td>-0.127546</td>\n",
       "      <td>-9.332565e-02</td>\n",
       "      <td>-0.175118</td>\n",
       "      <td>-0.030993</td>\n",
       "      <td>0.714812</td>\n",
       "      <td>...</td>\n",
       "      <td>0.081082</td>\n",
       "      <td>0.146647</td>\n",
       "      <td>-1.329346e-17</td>\n",
       "      <td>-0.061604</td>\n",
       "      <td>1.095898e-01</td>\n",
       "      <td>-0.015554</td>\n",
       "      <td>-0.061604</td>\n",
       "      <td>1.197369e-01</td>\n",
       "      <td>-0.119737</td>\n",
       "      <td>-0.015554</td>\n",
       "    </tr>\n",
       "    <tr>\n",
       "      <th>tumor_amount_subtentorial</th>\n",
       "      <td>-0.039567</td>\n",
       "      <td>-8.546176e-02</td>\n",
       "      <td>1.000000</td>\n",
       "      <td>-0.088321</td>\n",
       "      <td>0.018809</td>\n",
       "      <td>-0.229255</td>\n",
       "      <td>-8.585035e-02</td>\n",
       "      <td>-0.163745</td>\n",
       "      <td>0.019387</td>\n",
       "      <td>0.635669</td>\n",
       "      <td>...</td>\n",
       "      <td>-0.205265</td>\n",
       "      <td>-0.016188</td>\n",
       "      <td>9.252269e-02</td>\n",
       "      <td>0.030602</td>\n",
       "      <td>-1.429694e-01</td>\n",
       "      <td>0.165977</td>\n",
       "      <td>-0.088405</td>\n",
       "      <td>-1.057402e-01</td>\n",
       "      <td>-0.105740</td>\n",
       "      <td>-0.114467</td>\n",
       "    </tr>\n",
       "    <tr>\n",
       "      <th>duration</th>\n",
       "      <td>0.015703</td>\n",
       "      <td>-1.446060e-01</td>\n",
       "      <td>-0.088321</td>\n",
       "      <td>1.000000</td>\n",
       "      <td>-0.039488</td>\n",
       "      <td>0.121137</td>\n",
       "      <td>5.279260e-01</td>\n",
       "      <td>0.263616</td>\n",
       "      <td>0.188522</td>\n",
       "      <td>-0.174031</td>\n",
       "      <td>...</td>\n",
       "      <td>0.021544</td>\n",
       "      <td>-0.023933</td>\n",
       "      <td>-6.316184e-02</td>\n",
       "      <td>0.001121</td>\n",
       "      <td>4.556679e-01</td>\n",
       "      <td>-0.392958</td>\n",
       "      <td>-0.059888</td>\n",
       "      <td>-8.978178e-02</td>\n",
       "      <td>0.442617</td>\n",
       "      <td>0.152782</td>\n",
       "    </tr>\n",
       "    <tr>\n",
       "      <th>KPS</th>\n",
       "      <td>-0.176335</td>\n",
       "      <td>2.669421e-01</td>\n",
       "      <td>0.018809</td>\n",
       "      <td>-0.039488</td>\n",
       "      <td>1.000000</td>\n",
       "      <td>0.407857</td>\n",
       "      <td>-2.738613e-02</td>\n",
       "      <td>-0.136027</td>\n",
       "      <td>0.054568</td>\n",
       "      <td>0.220027</td>\n",
       "      <td>...</td>\n",
       "      <td>0.323589</td>\n",
       "      <td>0.080687</td>\n",
       "      <td>1.054093e-01</td>\n",
       "      <td>0.108465</td>\n",
       "      <td>1.754116e-01</td>\n",
       "      <td>-0.036515</td>\n",
       "      <td>0.108465</td>\n",
       "      <td>-1.054093e-01</td>\n",
       "      <td>-0.210819</td>\n",
       "      <td>-0.100416</td>\n",
       "    </tr>\n",
       "    <tr>\n",
       "      <th>OS</th>\n",
       "      <td>-0.068732</td>\n",
       "      <td>-1.275460e-01</td>\n",
       "      <td>-0.229255</td>\n",
       "      <td>0.121137</td>\n",
       "      <td>0.407857</td>\n",
       "      <td>1.000000</td>\n",
       "      <td>3.294971e-01</td>\n",
       "      <td>0.050828</td>\n",
       "      <td>0.072117</td>\n",
       "      <td>-0.259733</td>\n",
       "      <td>...</td>\n",
       "      <td>0.603513</td>\n",
       "      <td>-0.020443</td>\n",
       "      <td>1.485897e-01</td>\n",
       "      <td>-0.013287</td>\n",
       "      <td>1.460390e-01</td>\n",
       "      <td>-0.066461</td>\n",
       "      <td>-0.156550</td>\n",
       "      <td>3.108879e-02</td>\n",
       "      <td>-0.101100</td>\n",
       "      <td>-0.250104</td>\n",
       "    </tr>\n",
       "    <tr>\n",
       "      <th>primary tumor control</th>\n",
       "      <td>-0.025416</td>\n",
       "      <td>-9.332565e-02</td>\n",
       "      <td>-0.085850</td>\n",
       "      <td>0.527926</td>\n",
       "      <td>-0.027386</td>\n",
       "      <td>0.329497</td>\n",
       "      <td>1.000000e+00</td>\n",
       "      <td>0.273185</td>\n",
       "      <td>0.215859</td>\n",
       "      <td>-0.132565</td>\n",
       "      <td>...</td>\n",
       "      <td>0.225891</td>\n",
       "      <td>-0.058926</td>\n",
       "      <td>3.849002e-01</td>\n",
       "      <td>0.024754</td>\n",
       "      <td>3.202563e-01</td>\n",
       "      <td>-0.533333</td>\n",
       "      <td>-0.148522</td>\n",
       "      <td>-8.546501e-17</td>\n",
       "      <td>0.288675</td>\n",
       "      <td>-0.241667</td>\n",
       "    </tr>\n",
       "    <tr>\n",
       "      <th>size</th>\n",
       "      <td>0.097628</td>\n",
       "      <td>-1.751182e-01</td>\n",
       "      <td>-0.163745</td>\n",
       "      <td>0.263616</td>\n",
       "      <td>-0.136027</td>\n",
       "      <td>0.050828</td>\n",
       "      <td>2.731848e-01</td>\n",
       "      <td>1.000000</td>\n",
       "      <td>0.356290</td>\n",
       "      <td>-0.250611</td>\n",
       "      <td>...</td>\n",
       "      <td>-0.182972</td>\n",
       "      <td>0.076098</td>\n",
       "      <td>1.911798e-02</td>\n",
       "      <td>0.157378</td>\n",
       "      <td>3.181424e-02</td>\n",
       "      <td>-0.273185</td>\n",
       "      <td>-0.014754</td>\n",
       "      <td>1.911798e-02</td>\n",
       "      <td>0.305888</td>\n",
       "      <td>0.016557</td>\n",
       "    </tr>\n",
       "    <tr>\n",
       "      <th>metastasis other than CNS</th>\n",
       "      <td>-0.120700</td>\n",
       "      <td>-3.099255e-02</td>\n",
       "      <td>0.019387</td>\n",
       "      <td>0.188522</td>\n",
       "      <td>0.054568</td>\n",
       "      <td>0.072117</td>\n",
       "      <td>2.158587e-01</td>\n",
       "      <td>0.356290</td>\n",
       "      <td>1.000000</td>\n",
       "      <td>-0.010406</td>\n",
       "      <td>...</td>\n",
       "      <td>0.022505</td>\n",
       "      <td>-0.067512</td>\n",
       "      <td>1.821458e-01</td>\n",
       "      <td>0.192359</td>\n",
       "      <td>1.994138e-01</td>\n",
       "      <td>-0.157743</td>\n",
       "      <td>-0.152901</td>\n",
       "      <td>-2.013191e-01</td>\n",
       "      <td>0.086280</td>\n",
       "      <td>0.074720</td>\n",
       "    </tr>\n",
       "    <tr>\n",
       "      <th>total_tumor_amount</th>\n",
       "      <td>-0.007351</td>\n",
       "      <td>7.148124e-01</td>\n",
       "      <td>0.635669</td>\n",
       "      <td>-0.174031</td>\n",
       "      <td>0.220027</td>\n",
       "      <td>-0.259733</td>\n",
       "      <td>-1.325654e-01</td>\n",
       "      <td>-0.250611</td>\n",
       "      <td>-0.010406</td>\n",
       "      <td>1.000000</td>\n",
       "      <td>...</td>\n",
       "      <td>-0.081250</td>\n",
       "      <td>0.102260</td>\n",
       "      <td>6.494021e-02</td>\n",
       "      <td>-0.026252</td>\n",
       "      <td>-1.543815e-02</td>\n",
       "      <td>0.104445</td>\n",
       "      <td>-0.109781</td>\n",
       "      <td>1.855434e-02</td>\n",
       "      <td>-0.166989</td>\n",
       "      <td>-0.092394</td>\n",
       "    </tr>\n",
       "    <tr>\n",
       "      <th>is_single</th>\n",
       "      <td>-0.107833</td>\n",
       "      <td>-6.599120e-01</td>\n",
       "      <td>-0.388514</td>\n",
       "      <td>0.126557</td>\n",
       "      <td>-0.129099</td>\n",
       "      <td>0.239398</td>\n",
       "      <td>1.178511e-01</td>\n",
       "      <td>0.245854</td>\n",
       "      <td>0.082188</td>\n",
       "      <td>-0.783990</td>\n",
       "      <td>...</td>\n",
       "      <td>0.098295</td>\n",
       "      <td>-0.270833</td>\n",
       "      <td>7.776158e-02</td>\n",
       "      <td>-0.035007</td>\n",
       "      <td>-4.321213e-17</td>\n",
       "      <td>-0.176777</td>\n",
       "      <td>0.140028</td>\n",
       "      <td>-1.944039e-02</td>\n",
       "      <td>0.174964</td>\n",
       "      <td>0.058926</td>\n",
       "    </tr>\n",
       "    <tr>\n",
       "      <th>COP</th>\n",
       "      <td>-0.083125</td>\n",
       "      <td>-2.302562e-01</td>\n",
       "      <td>-0.177332</td>\n",
       "      <td>-0.037554</td>\n",
       "      <td>0.075425</td>\n",
       "      <td>0.248016</td>\n",
       "      <td>1.377061e-01</td>\n",
       "      <td>0.384742</td>\n",
       "      <td>0.175778</td>\n",
       "      <td>-0.302868</td>\n",
       "      <td>...</td>\n",
       "      <td>-0.035892</td>\n",
       "      <td>-0.228218</td>\n",
       "      <td>-4.969040e-02</td>\n",
       "      <td>0.230089</td>\n",
       "      <td>2.480695e-02</td>\n",
       "      <td>-0.077460</td>\n",
       "      <td>-0.127827</td>\n",
       "      <td>1.490712e-01</td>\n",
       "      <td>-0.049690</td>\n",
       "      <td>-0.137706</td>\n",
       "    </tr>\n",
       "    <tr>\n",
       "      <th>WBRT</th>\n",
       "      <td>-0.268827</td>\n",
       "      <td>9.677419e-02</td>\n",
       "      <td>0.064096</td>\n",
       "      <td>0.063958</td>\n",
       "      <td>0.227185</td>\n",
       "      <td>0.168369</td>\n",
       "      <td>5.184758e-02</td>\n",
       "      <td>-0.211172</td>\n",
       "      <td>-0.229861</td>\n",
       "      <td>0.119969</td>\n",
       "      <td>...</td>\n",
       "      <td>0.118921</td>\n",
       "      <td>0.210805</td>\n",
       "      <td>2.993422e-02</td>\n",
       "      <td>-0.061604</td>\n",
       "      <td>7.472032e-02</td>\n",
       "      <td>0.038886</td>\n",
       "      <td>0.207914</td>\n",
       "      <td>-1.197369e-01</td>\n",
       "      <td>-0.119737</td>\n",
       "      <td>-0.142581</td>\n",
       "    </tr>\n",
       "    <tr>\n",
       "      <th>CT</th>\n",
       "      <td>-0.231420</td>\n",
       "      <td>-1.837865e-01</td>\n",
       "      <td>0.087118</td>\n",
       "      <td>-0.019752</td>\n",
       "      <td>0.323589</td>\n",
       "      <td>0.350166</td>\n",
       "      <td>1.650739e-01</td>\n",
       "      <td>0.058689</td>\n",
       "      <td>-0.038085</td>\n",
       "      <td>-0.081250</td>\n",
       "      <td>...</td>\n",
       "      <td>0.175725</td>\n",
       "      <td>-0.006143</td>\n",
       "      <td>2.608360e-01</td>\n",
       "      <td>0.237429</td>\n",
       "      <td>3.338903e-02</td>\n",
       "      <td>-0.104257</td>\n",
       "      <td>0.056777</td>\n",
       "      <td>-1.404502e-01</td>\n",
       "      <td>-0.140450</td>\n",
       "      <td>-0.043441</td>\n",
       "    </tr>\n",
       "    <tr>\n",
       "      <th>SRS</th>\n",
       "      <td>0.015899</td>\n",
       "      <td>8.108227e-02</td>\n",
       "      <td>-0.205265</td>\n",
       "      <td>0.021544</td>\n",
       "      <td>0.323589</td>\n",
       "      <td>0.603513</td>\n",
       "      <td>2.258906e-01</td>\n",
       "      <td>-0.182972</td>\n",
       "      <td>0.022505</td>\n",
       "      <td>-0.081250</td>\n",
       "      <td>...</td>\n",
       "      <td>1.000000</td>\n",
       "      <td>0.101366</td>\n",
       "      <td>1.605145e-01</td>\n",
       "      <td>-0.123876</td>\n",
       "      <td>1.502506e-01</td>\n",
       "      <td>-0.104257</td>\n",
       "      <td>-0.123876</td>\n",
       "      <td>6.019293e-02</td>\n",
       "      <td>-0.040129</td>\n",
       "      <td>-0.165074</td>\n",
       "    </tr>\n",
       "    <tr>\n",
       "      <th>POP</th>\n",
       "      <td>0.032949</td>\n",
       "      <td>1.466471e-01</td>\n",
       "      <td>-0.016188</td>\n",
       "      <td>-0.023933</td>\n",
       "      <td>0.080687</td>\n",
       "      <td>-0.020443</td>\n",
       "      <td>-5.892557e-02</td>\n",
       "      <td>0.076098</td>\n",
       "      <td>-0.067512</td>\n",
       "      <td>0.102260</td>\n",
       "      <td>...</td>\n",
       "      <td>0.101366</td>\n",
       "      <td>1.000000</td>\n",
       "      <td>6.804138e-02</td>\n",
       "      <td>-0.052511</td>\n",
       "      <td>1.132277e-01</td>\n",
       "      <td>-0.044194</td>\n",
       "      <td>-0.052511</td>\n",
       "      <td>6.804138e-02</td>\n",
       "      <td>-0.102062</td>\n",
       "      <td>-0.147314</td>\n",
       "    </tr>\n",
       "    <tr>\n",
       "      <th>breast</th>\n",
       "      <td>-0.420660</td>\n",
       "      <td>-1.329346e-17</td>\n",
       "      <td>0.092523</td>\n",
       "      <td>-0.063162</td>\n",
       "      <td>0.105409</td>\n",
       "      <td>0.148590</td>\n",
       "      <td>3.849002e-01</td>\n",
       "      <td>0.019118</td>\n",
       "      <td>0.182146</td>\n",
       "      <td>0.064940</td>\n",
       "      <td>...</td>\n",
       "      <td>0.160514</td>\n",
       "      <td>0.068041</td>\n",
       "      <td>1.000000e+00</td>\n",
       "      <td>-0.057166</td>\n",
       "      <td>-9.245003e-02</td>\n",
       "      <td>-0.384900</td>\n",
       "      <td>-0.057166</td>\n",
       "      <td>-1.111111e-01</td>\n",
       "      <td>-0.111111</td>\n",
       "      <td>-0.384900</td>\n",
       "    </tr>\n",
       "    <tr>\n",
       "      <th>colon</th>\n",
       "      <td>-0.040266</td>\n",
       "      <td>-6.160411e-02</td>\n",
       "      <td>0.030602</td>\n",
       "      <td>0.001121</td>\n",
       "      <td>0.108465</td>\n",
       "      <td>-0.013287</td>\n",
       "      <td>2.475369e-02</td>\n",
       "      <td>0.157378</td>\n",
       "      <td>0.192359</td>\n",
       "      <td>-0.026252</td>\n",
       "      <td>...</td>\n",
       "      <td>-0.123876</td>\n",
       "      <td>-0.052511</td>\n",
       "      <td>-5.716620e-02</td>\n",
       "      <td>1.000000</td>\n",
       "      <td>-4.756515e-02</td>\n",
       "      <td>-0.198030</td>\n",
       "      <td>-0.029412</td>\n",
       "      <td>-5.716620e-02</td>\n",
       "      <td>-0.057166</td>\n",
       "      <td>0.148522</td>\n",
       "    </tr>\n",
       "    <tr>\n",
       "      <th>kidney</th>\n",
       "      <td>-0.008140</td>\n",
       "      <td>1.095898e-01</td>\n",
       "      <td>-0.142969</td>\n",
       "      <td>0.455668</td>\n",
       "      <td>0.175412</td>\n",
       "      <td>0.146039</td>\n",
       "      <td>3.202563e-01</td>\n",
       "      <td>0.031814</td>\n",
       "      <td>0.199414</td>\n",
       "      <td>-0.015438</td>\n",
       "      <td>...</td>\n",
       "      <td>0.150251</td>\n",
       "      <td>0.113228</td>\n",
       "      <td>-9.245003e-02</td>\n",
       "      <td>-0.047565</td>\n",
       "      <td>1.000000e+00</td>\n",
       "      <td>-0.320256</td>\n",
       "      <td>-0.047565</td>\n",
       "      <td>-9.245003e-02</td>\n",
       "      <td>-0.092450</td>\n",
       "      <td>0.128103</td>\n",
       "    </tr>\n",
       "    <tr>\n",
       "      <th>lung</th>\n",
       "      <td>0.203331</td>\n",
       "      <td>-1.555428e-02</td>\n",
       "      <td>0.165977</td>\n",
       "      <td>-0.392958</td>\n",
       "      <td>-0.036515</td>\n",
       "      <td>-0.066461</td>\n",
       "      <td>-5.333333e-01</td>\n",
       "      <td>-0.273185</td>\n",
       "      <td>-0.157743</td>\n",
       "      <td>0.104445</td>\n",
       "      <td>...</td>\n",
       "      <td>-0.104257</td>\n",
       "      <td>-0.044194</td>\n",
       "      <td>-3.849002e-01</td>\n",
       "      <td>-0.198030</td>\n",
       "      <td>-3.202563e-01</td>\n",
       "      <td>1.000000</td>\n",
       "      <td>-0.198030</td>\n",
       "      <td>-3.849002e-01</td>\n",
       "      <td>-0.384900</td>\n",
       "      <td>0.125000</td>\n",
       "    </tr>\n",
       "    <tr>\n",
       "      <th>lymphoma</th>\n",
       "      <td>-0.040266</td>\n",
       "      <td>-6.160411e-02</td>\n",
       "      <td>-0.088405</td>\n",
       "      <td>-0.059888</td>\n",
       "      <td>0.108465</td>\n",
       "      <td>-0.156550</td>\n",
       "      <td>-1.485221e-01</td>\n",
       "      <td>-0.014754</td>\n",
       "      <td>-0.152901</td>\n",
       "      <td>-0.109781</td>\n",
       "      <td>...</td>\n",
       "      <td>-0.123876</td>\n",
       "      <td>-0.052511</td>\n",
       "      <td>-5.716620e-02</td>\n",
       "      <td>-0.029412</td>\n",
       "      <td>-4.756515e-02</td>\n",
       "      <td>-0.198030</td>\n",
       "      <td>1.000000</td>\n",
       "      <td>-5.716620e-02</td>\n",
       "      <td>-0.057166</td>\n",
       "      <td>-0.024754</td>\n",
       "    </tr>\n",
       "    <tr>\n",
       "      <th>others</th>\n",
       "      <td>-0.029348</td>\n",
       "      <td>1.197369e-01</td>\n",
       "      <td>-0.105740</td>\n",
       "      <td>-0.089782</td>\n",
       "      <td>-0.105409</td>\n",
       "      <td>0.031089</td>\n",
       "      <td>-8.546501e-17</td>\n",
       "      <td>0.019118</td>\n",
       "      <td>-0.201319</td>\n",
       "      <td>0.018554</td>\n",
       "      <td>...</td>\n",
       "      <td>0.060193</td>\n",
       "      <td>0.068041</td>\n",
       "      <td>-1.111111e-01</td>\n",
       "      <td>-0.057166</td>\n",
       "      <td>-9.245003e-02</td>\n",
       "      <td>-0.384900</td>\n",
       "      <td>-0.057166</td>\n",
       "      <td>1.000000e+00</td>\n",
       "      <td>-0.111111</td>\n",
       "      <td>-0.096225</td>\n",
       "    </tr>\n",
       "    <tr>\n",
       "      <th>rectum</th>\n",
       "      <td>0.166307</td>\n",
       "      <td>-1.197369e-01</td>\n",
       "      <td>-0.105740</td>\n",
       "      <td>0.442617</td>\n",
       "      <td>-0.210819</td>\n",
       "      <td>-0.101100</td>\n",
       "      <td>2.886751e-01</td>\n",
       "      <td>0.305888</td>\n",
       "      <td>0.086280</td>\n",
       "      <td>-0.166989</td>\n",
       "      <td>...</td>\n",
       "      <td>-0.040129</td>\n",
       "      <td>-0.102062</td>\n",
       "      <td>-1.111111e-01</td>\n",
       "      <td>-0.057166</td>\n",
       "      <td>-9.245003e-02</td>\n",
       "      <td>-0.384900</td>\n",
       "      <td>-0.057166</td>\n",
       "      <td>-1.111111e-01</td>\n",
       "      <td>1.000000</td>\n",
       "      <td>0.096225</td>\n",
       "    </tr>\n",
       "    <tr>\n",
       "      <th>age_group</th>\n",
       "      <td>0.025416</td>\n",
       "      <td>-1.555428e-02</td>\n",
       "      <td>-0.114467</td>\n",
       "      <td>0.152782</td>\n",
       "      <td>-0.100416</td>\n",
       "      <td>-0.250104</td>\n",
       "      <td>-2.416667e-01</td>\n",
       "      <td>0.016557</td>\n",
       "      <td>0.074720</td>\n",
       "      <td>-0.092394</td>\n",
       "      <td>...</td>\n",
       "      <td>-0.165074</td>\n",
       "      <td>-0.147314</td>\n",
       "      <td>-3.849002e-01</td>\n",
       "      <td>0.148522</td>\n",
       "      <td>1.281025e-01</td>\n",
       "      <td>0.125000</td>\n",
       "      <td>-0.024754</td>\n",
       "      <td>-9.622504e-02</td>\n",
       "      <td>0.096225</td>\n",
       "      <td>1.000000</td>\n",
       "    </tr>\n",
       "  </tbody>\n",
       "</table>\n",
       "<p>24 rows × 24 columns</p>\n",
       "</div>"
      ],
      "text/plain": [
       "                               gender  tumor_amount_supratentorial  \\\n",
       "gender                       1.000000                 2.635561e-02   \n",
       "tumor_amount_supratentorial  0.026356                 1.000000e+00   \n",
       "tumor_amount_subtentorial   -0.039567                -8.546176e-02   \n",
       "duration                     0.015703                -1.446060e-01   \n",
       "KPS                         -0.176335                 2.669421e-01   \n",
       "OS                          -0.068732                -1.275460e-01   \n",
       "primary tumor control       -0.025416                -9.332565e-02   \n",
       "size                         0.097628                -1.751182e-01   \n",
       "metastasis other than CNS   -0.120700                -3.099255e-02   \n",
       "total_tumor_amount          -0.007351                 7.148124e-01   \n",
       "is_single                   -0.107833                -6.599120e-01   \n",
       "COP                         -0.083125                -2.302562e-01   \n",
       "WBRT                        -0.268827                 9.677419e-02   \n",
       "CT                          -0.231420                -1.837865e-01   \n",
       "SRS                          0.015899                 8.108227e-02   \n",
       "POP                          0.032949                 1.466471e-01   \n",
       "breast                      -0.420660                -1.329346e-17   \n",
       "colon                       -0.040266                -6.160411e-02   \n",
       "kidney                      -0.008140                 1.095898e-01   \n",
       "lung                         0.203331                -1.555428e-02   \n",
       "lymphoma                    -0.040266                -6.160411e-02   \n",
       "others                      -0.029348                 1.197369e-01   \n",
       "rectum                       0.166307                -1.197369e-01   \n",
       "age_group                    0.025416                -1.555428e-02   \n",
       "\n",
       "                             tumor_amount_subtentorial  duration       KPS  \\\n",
       "gender                                       -0.039567  0.015703 -0.176335   \n",
       "tumor_amount_supratentorial                  -0.085462 -0.144606  0.266942   \n",
       "tumor_amount_subtentorial                     1.000000 -0.088321  0.018809   \n",
       "duration                                     -0.088321  1.000000 -0.039488   \n",
       "KPS                                           0.018809 -0.039488  1.000000   \n",
       "OS                                           -0.229255  0.121137  0.407857   \n",
       "primary tumor control                        -0.085850  0.527926 -0.027386   \n",
       "size                                         -0.163745  0.263616 -0.136027   \n",
       "metastasis other than CNS                     0.019387  0.188522  0.054568   \n",
       "total_tumor_amount                            0.635669 -0.174031  0.220027   \n",
       "is_single                                    -0.388514  0.126557 -0.129099   \n",
       "COP                                          -0.177332 -0.037554  0.075425   \n",
       "WBRT                                          0.064096  0.063958  0.227185   \n",
       "CT                                            0.087118 -0.019752  0.323589   \n",
       "SRS                                          -0.205265  0.021544  0.323589   \n",
       "POP                                          -0.016188 -0.023933  0.080687   \n",
       "breast                                        0.092523 -0.063162  0.105409   \n",
       "colon                                         0.030602  0.001121  0.108465   \n",
       "kidney                                       -0.142969  0.455668  0.175412   \n",
       "lung                                          0.165977 -0.392958 -0.036515   \n",
       "lymphoma                                     -0.088405 -0.059888  0.108465   \n",
       "others                                       -0.105740 -0.089782 -0.105409   \n",
       "rectum                                       -0.105740  0.442617 -0.210819   \n",
       "age_group                                    -0.114467  0.152782 -0.100416   \n",
       "\n",
       "                                   OS  primary tumor control      size  \\\n",
       "gender                      -0.068732          -2.541643e-02  0.097628   \n",
       "tumor_amount_supratentorial -0.127546          -9.332565e-02 -0.175118   \n",
       "tumor_amount_subtentorial   -0.229255          -8.585035e-02 -0.163745   \n",
       "duration                     0.121137           5.279260e-01  0.263616   \n",
       "KPS                          0.407857          -2.738613e-02 -0.136027   \n",
       "OS                           1.000000           3.294971e-01  0.050828   \n",
       "primary tumor control        0.329497           1.000000e+00  0.273185   \n",
       "size                         0.050828           2.731848e-01  1.000000   \n",
       "metastasis other than CNS    0.072117           2.158587e-01  0.356290   \n",
       "total_tumor_amount          -0.259733          -1.325654e-01 -0.250611   \n",
       "is_single                    0.239398           1.178511e-01  0.245854   \n",
       "COP                          0.248016           1.377061e-01  0.384742   \n",
       "WBRT                         0.168369           5.184758e-02 -0.211172   \n",
       "CT                           0.350166           1.650739e-01  0.058689   \n",
       "SRS                          0.603513           2.258906e-01 -0.182972   \n",
       "POP                         -0.020443          -5.892557e-02  0.076098   \n",
       "breast                       0.148590           3.849002e-01  0.019118   \n",
       "colon                       -0.013287           2.475369e-02  0.157378   \n",
       "kidney                       0.146039           3.202563e-01  0.031814   \n",
       "lung                        -0.066461          -5.333333e-01 -0.273185   \n",
       "lymphoma                    -0.156550          -1.485221e-01 -0.014754   \n",
       "others                       0.031089          -8.546501e-17  0.019118   \n",
       "rectum                      -0.101100           2.886751e-01  0.305888   \n",
       "age_group                   -0.250104          -2.416667e-01  0.016557   \n",
       "\n",
       "                             metastasis other than CNS  total_tumor_amount  \\\n",
       "gender                                       -0.120700           -0.007351   \n",
       "tumor_amount_supratentorial                  -0.030993            0.714812   \n",
       "tumor_amount_subtentorial                     0.019387            0.635669   \n",
       "duration                                      0.188522           -0.174031   \n",
       "KPS                                           0.054568            0.220027   \n",
       "OS                                            0.072117           -0.259733   \n",
       "primary tumor control                         0.215859           -0.132565   \n",
       "size                                          0.356290           -0.250611   \n",
       "metastasis other than CNS                     1.000000           -0.010406   \n",
       "total_tumor_amount                           -0.010406            1.000000   \n",
       "is_single                                     0.082188           -0.783990   \n",
       "COP                                           0.175778           -0.302868   \n",
       "WBRT                                         -0.229861            0.119969   \n",
       "CT                                           -0.038085           -0.081250   \n",
       "SRS                                           0.022505           -0.081250   \n",
       "POP                                          -0.067512            0.102260   \n",
       "breast                                        0.182146            0.064940   \n",
       "colon                                         0.192359           -0.026252   \n",
       "kidney                                        0.199414           -0.015438   \n",
       "lung                                         -0.157743            0.104445   \n",
       "lymphoma                                     -0.152901           -0.109781   \n",
       "others                                       -0.201319            0.018554   \n",
       "rectum                                        0.086280           -0.166989   \n",
       "age_group                                     0.074720           -0.092394   \n",
       "\n",
       "                               ...           SRS       POP        breast  \\\n",
       "gender                         ...      0.015899  0.032949 -4.206599e-01   \n",
       "tumor_amount_supratentorial    ...      0.081082  0.146647 -1.329346e-17   \n",
       "tumor_amount_subtentorial      ...     -0.205265 -0.016188  9.252269e-02   \n",
       "duration                       ...      0.021544 -0.023933 -6.316184e-02   \n",
       "KPS                            ...      0.323589  0.080687  1.054093e-01   \n",
       "OS                             ...      0.603513 -0.020443  1.485897e-01   \n",
       "primary tumor control          ...      0.225891 -0.058926  3.849002e-01   \n",
       "size                           ...     -0.182972  0.076098  1.911798e-02   \n",
       "metastasis other than CNS      ...      0.022505 -0.067512  1.821458e-01   \n",
       "total_tumor_amount             ...     -0.081250  0.102260  6.494021e-02   \n",
       "is_single                      ...      0.098295 -0.270833  7.776158e-02   \n",
       "COP                            ...     -0.035892 -0.228218 -4.969040e-02   \n",
       "WBRT                           ...      0.118921  0.210805  2.993422e-02   \n",
       "CT                             ...      0.175725 -0.006143  2.608360e-01   \n",
       "SRS                            ...      1.000000  0.101366  1.605145e-01   \n",
       "POP                            ...      0.101366  1.000000  6.804138e-02   \n",
       "breast                         ...      0.160514  0.068041  1.000000e+00   \n",
       "colon                          ...     -0.123876 -0.052511 -5.716620e-02   \n",
       "kidney                         ...      0.150251  0.113228 -9.245003e-02   \n",
       "lung                           ...     -0.104257 -0.044194 -3.849002e-01   \n",
       "lymphoma                       ...     -0.123876 -0.052511 -5.716620e-02   \n",
       "others                         ...      0.060193  0.068041 -1.111111e-01   \n",
       "rectum                         ...     -0.040129 -0.102062 -1.111111e-01   \n",
       "age_group                      ...     -0.165074 -0.147314 -3.849002e-01   \n",
       "\n",
       "                                colon        kidney      lung  lymphoma  \\\n",
       "gender                      -0.040266 -8.139772e-03  0.203331 -0.040266   \n",
       "tumor_amount_supratentorial -0.061604  1.095898e-01 -0.015554 -0.061604   \n",
       "tumor_amount_subtentorial    0.030602 -1.429694e-01  0.165977 -0.088405   \n",
       "duration                     0.001121  4.556679e-01 -0.392958 -0.059888   \n",
       "KPS                          0.108465  1.754116e-01 -0.036515  0.108465   \n",
       "OS                          -0.013287  1.460390e-01 -0.066461 -0.156550   \n",
       "primary tumor control        0.024754  3.202563e-01 -0.533333 -0.148522   \n",
       "size                         0.157378  3.181424e-02 -0.273185 -0.014754   \n",
       "metastasis other than CNS    0.192359  1.994138e-01 -0.157743 -0.152901   \n",
       "total_tumor_amount          -0.026252 -1.543815e-02  0.104445 -0.109781   \n",
       "is_single                   -0.035007 -4.321213e-17 -0.176777  0.140028   \n",
       "COP                          0.230089  2.480695e-02 -0.077460 -0.127827   \n",
       "WBRT                        -0.061604  7.472032e-02  0.038886  0.207914   \n",
       "CT                           0.237429  3.338903e-02 -0.104257  0.056777   \n",
       "SRS                         -0.123876  1.502506e-01 -0.104257 -0.123876   \n",
       "POP                         -0.052511  1.132277e-01 -0.044194 -0.052511   \n",
       "breast                      -0.057166 -9.245003e-02 -0.384900 -0.057166   \n",
       "colon                        1.000000 -4.756515e-02 -0.198030 -0.029412   \n",
       "kidney                      -0.047565  1.000000e+00 -0.320256 -0.047565   \n",
       "lung                        -0.198030 -3.202563e-01  1.000000 -0.198030   \n",
       "lymphoma                    -0.029412 -4.756515e-02 -0.198030  1.000000   \n",
       "others                      -0.057166 -9.245003e-02 -0.384900 -0.057166   \n",
       "rectum                      -0.057166 -9.245003e-02 -0.384900 -0.057166   \n",
       "age_group                    0.148522  1.281025e-01  0.125000 -0.024754   \n",
       "\n",
       "                                   others    rectum  age_group  \n",
       "gender                      -2.934836e-02  0.166307   0.025416  \n",
       "tumor_amount_supratentorial  1.197369e-01 -0.119737  -0.015554  \n",
       "tumor_amount_subtentorial   -1.057402e-01 -0.105740  -0.114467  \n",
       "duration                    -8.978178e-02  0.442617   0.152782  \n",
       "KPS                         -1.054093e-01 -0.210819  -0.100416  \n",
       "OS                           3.108879e-02 -0.101100  -0.250104  \n",
       "primary tumor control       -8.546501e-17  0.288675  -0.241667  \n",
       "size                         1.911798e-02  0.305888   0.016557  \n",
       "metastasis other than CNS   -2.013191e-01  0.086280   0.074720  \n",
       "total_tumor_amount           1.855434e-02 -0.166989  -0.092394  \n",
       "is_single                   -1.944039e-02  0.174964   0.058926  \n",
       "COP                          1.490712e-01 -0.049690  -0.137706  \n",
       "WBRT                        -1.197369e-01 -0.119737  -0.142581  \n",
       "CT                          -1.404502e-01 -0.140450  -0.043441  \n",
       "SRS                          6.019293e-02 -0.040129  -0.165074  \n",
       "POP                          6.804138e-02 -0.102062  -0.147314  \n",
       "breast                      -1.111111e-01 -0.111111  -0.384900  \n",
       "colon                       -5.716620e-02 -0.057166   0.148522  \n",
       "kidney                      -9.245003e-02 -0.092450   0.128103  \n",
       "lung                        -3.849002e-01 -0.384900   0.125000  \n",
       "lymphoma                    -5.716620e-02 -0.057166  -0.024754  \n",
       "others                       1.000000e+00 -0.111111  -0.096225  \n",
       "rectum                      -1.111111e-01  1.000000   0.096225  \n",
       "age_group                   -9.622504e-02  0.096225   1.000000  \n",
       "\n",
       "[24 rows x 24 columns]"
      ]
     },
     "execution_count": 47,
     "metadata": {},
     "output_type": "execute_result"
    }
   ],
   "source": [
    "data_dead.corr()"
   ]
  },
  {
   "cell_type": "code",
   "execution_count": 48,
   "metadata": {},
   "outputs": [
    {
     "data": {
      "text/plain": [
       "<matplotlib.axes._subplots.AxesSubplot at 0x23acde46978>"
      ]
     },
     "execution_count": 48,
     "metadata": {},
     "output_type": "execute_result"
    },
    {
     "data": {
      "image/png": "[encoded data removed]",
      "text/plain": [
       "<Figure size 432x288 with 2 Axes>"
      ]
     },
     "metadata": {},
     "output_type": "display_data"
    }
   ],
   "source": [
    "#Plot a heatmap according to the correlation coefficient matrix above.\n",
    "sns.heatmap(data_dead.corr())"
   ]
  },
  {
   "cell_type": "code",
   "execution_count": 49,
   "metadata": {},
   "outputs": [
    {
     "data": {
      "text/plain": [
       "<matplotlib.axes._subplots.AxesSubplot at 0x23acde7f2b0>"
      ]
     },
     "execution_count": 49,
     "metadata": {},
     "output_type": "execute_result"
    },
    {
     "data": {
      "image/png": "[encoded data removed]",
      "text/plain": [
       "<Figure size 432x288 with 1 Axes>"
      ]
     },
     "metadata": {},
     "output_type": "display_data"
    }
   ],
   "source": [
    "# Draw a bar graph to show correlation coefficients between different factors and overall survival time.\n",
    "data_dead.corr()['OS'].plot(kind='bar')"
   ]
  },
  {
   "cell_type": "markdown",
   "metadata": {},
   "source": [
    "- <u>**From the paragraph shown above, we can deduce that KPS>=70, primary tumor undercontrol, single metastasis, COP(complete tumor resection), SRS(stereotactic radiotherapy), breast cancer and kidney cancer are associated with prolonged survival time. Total tumor amount, lymphoma, age > 65 are associated with shorten survival time.**</u> "
   ]
  },
  {
   "cell_type": "markdown",
   "metadata": {},
   "source": [
    "In the next few blocks, we try to divide the OS data into different groups according to the factors which have a strong association with OS."
   ]
  },
  {
   "cell_type": "code",
   "execution_count": 50,
   "metadata": {},
   "outputs": [
    {
     "data": {
      "text/html": [
       "<div>\n",
       "<style scoped>\n",
       "    .dataframe tbody tr th:only-of-type {\n",
       "        vertical-align: middle;\n",
       "    }\n",
       "\n",
       "    .dataframe tbody tr th {\n",
       "        vertical-align: top;\n",
       "    }\n",
       "\n",
       "    .dataframe thead th {\n",
       "        text-align: right;\n",
       "    }\n",
       "</style>\n",
       "<table border=\"1\" class=\"dataframe\">\n",
       "  <thead>\n",
       "    <tr style=\"text-align: right;\">\n",
       "      <th></th>\n",
       "      <th>count</th>\n",
       "      <th>mean</th>\n",
       "      <th>std</th>\n",
       "      <th>min</th>\n",
       "      <th>25%</th>\n",
       "      <th>50%</th>\n",
       "      <th>75%</th>\n",
       "      <th>max</th>\n",
       "    </tr>\n",
       "    <tr>\n",
       "      <th>KPS</th>\n",
       "      <th></th>\n",
       "      <th></th>\n",
       "      <th></th>\n",
       "      <th></th>\n",
       "      <th></th>\n",
       "      <th></th>\n",
       "      <th></th>\n",
       "      <th></th>\n",
       "    </tr>\n",
       "  </thead>\n",
       "  <tbody>\n",
       "    <tr>\n",
       "      <th>0</th>\n",
       "      <td>20.0</td>\n",
       "      <td>3.085</td>\n",
       "      <td>3.288941</td>\n",
       "      <td>0.2</td>\n",
       "      <td>0.500</td>\n",
       "      <td>1.5</td>\n",
       "      <td>5.25</td>\n",
       "      <td>12.0</td>\n",
       "    </tr>\n",
       "    <tr>\n",
       "      <th>1</th>\n",
       "      <td>50.0</td>\n",
       "      <td>10.110</td>\n",
       "      <td>8.240820</td>\n",
       "      <td>1.0</td>\n",
       "      <td>3.625</td>\n",
       "      <td>9.0</td>\n",
       "      <td>13.75</td>\n",
       "      <td>36.0</td>\n",
       "    </tr>\n",
       "  </tbody>\n",
       "</table>\n",
       "</div>"
      ],
      "text/plain": [
       "     count    mean       std  min    25%  50%    75%   max\n",
       "KPS                                                       \n",
       "0     20.0   3.085  3.288941  0.2  0.500  1.5   5.25  12.0\n",
       "1     50.0  10.110  8.240820  1.0  3.625  9.0  13.75  36.0"
      ]
     },
     "execution_count": 50,
     "metadata": {},
     "output_type": "execute_result"
    }
   ],
   "source": [
    "# KPS groups\n",
    "data_dead.groupby('KPS')['OS'].describe()"
   ]
  },
  {
   "cell_type": "code",
   "execution_count": 51,
   "metadata": {},
   "outputs": [
    {
     "data": {
      "text/plain": [
       "<matplotlib.legend.Legend at 0x23acdefa128>"
      ]
     },
     "execution_count": 51,
     "metadata": {},
     "output_type": "execute_result"
    },
    {
     "data": {
      "image/png": "[encoded data removed]",
      "text/plain": [
       "<Figure size 432x288 with 1 Axes>"
      ]
     },
     "metadata": {},
     "output_type": "display_data"
    }
   ],
   "source": [
    "sns.distplot(data_dead[data_dead['KPS'] == 0]['OS'],bins=15)\n",
    "sns.distplot(data_dead[data_dead['KPS']== 1]['OS'],bins=15)\n",
    "plt.title('OS distribution grouped by KPS score')\n",
    "plt.legend(['KPS<70','KPS>=70'])"
   ]
  },
  {
   "cell_type": "markdown",
   "metadata": {},
   "source": [
    "<u>**See, patients with KPS >= 70live longer. **</u>"
   ]
  },
  {
   "cell_type": "code",
   "execution_count": 52,
   "metadata": {},
   "outputs": [
    {
     "data": {
      "text/plain": [
       "<matplotlib.legend.Legend at 0x23acde7f6d8>"
      ]
     },
     "execution_count": 52,
     "metadata": {},
     "output_type": "execute_result"
    },
    {
     "data": {
      "image/png": "[encoded data removed]",
      "text/plain": [
       "<Figure size 432x288 with 1 Axes>"
      ]
     },
     "metadata": {},
     "output_type": "display_data"
    }
   ],
   "source": [
    "sns.distplot(data_dead[data_dead['age_group'] == 0]['OS'],bins=15)\n",
    "sns.distplot(data_dead[data_dead['age_group']== 1]['OS'],bins=15)\n",
    "plt.title('OS distribution grouped by age')\n",
    "plt.legend(['age<65','age>=65'])"
   ]
  },
  {
   "cell_type": "markdown",
   "metadata": {},
   "source": [
    "The effect of age seems to be not so abvious."
   ]
  },
  {
   "cell_type": "code",
   "execution_count": 53,
   "metadata": {},
   "outputs": [
    {
     "data": {
      "text/plain": [
       "<matplotlib.legend.Legend at 0x23acdf1ae80>"
      ]
     },
     "execution_count": 53,
     "metadata": {},
     "output_type": "execute_result"
    },
    {
     "data": {
      "image/png": "[encoded data removed]",
      "text/plain": [
       "<Figure size 432x288 with 1 Axes>"
      ]
     },
     "metadata": {},
     "output_type": "display_data"
    }
   ],
   "source": [
    "sns.distplot(data_dead[data_dead['primary tumor control'] == 0]['OS'],bins=15)\n",
    "sns.distplot(data_dead[data_dead['primary tumor control']== 1]['OS'],bins=15)\n",
    "plt.title('OS distribution grouped by primary tumor conditions')\n",
    "plt.legend(['uncontroled','controled'])"
   ]
  },
  {
   "cell_type": "markdown",
   "metadata": {},
   "source": [
    "<u>**Because there are multiple bottleneck restrictions that constraint the length of survival time(At least two, one is the primary tumor, the other is the brain metastasis.).So primary tumor control show its importance at improve the prognosis.**</u>"
   ]
  },
  {
   "cell_type": "code",
   "execution_count": 54,
   "metadata": {},
   "outputs": [
    {
     "data": {
      "text/plain": [
       "<matplotlib.legend.Legend at 0x23acdefa898>"
      ]
     },
     "execution_count": 54,
     "metadata": {},
     "output_type": "execute_result"
    },
    {
     "data": {
      "image/png": "[encoded data removed]",
      "text/plain": [
       "<Figure size 432x288 with 1 Axes>"
      ]
     },
     "metadata": {},
     "output_type": "display_data"
    }
   ],
   "source": [
    "sns.distplot(data_dead[data_dead['is_single'] == 0]['OS'],bins=15)\n",
    "sns.distplot(data_dead[data_dead['is_single']== 1]['OS'],bins=15)\n",
    "plt.title('OS distribution grouped by metastic tumor amount')\n",
    "plt.legend(['multiple','single'])"
   ]
  },
  {
   "cell_type": "code",
   "execution_count": 55,
   "metadata": {},
   "outputs": [
    {
     "data": {
      "text/plain": [
       "<matplotlib.legend.Legend at 0x23acdfce080>"
      ]
     },
     "execution_count": 55,
     "metadata": {},
     "output_type": "execute_result"
    },
    {
     "data": {
      "image/png": "[encoded data removed]",
      "text/plain": [
       "<Figure size 432x288 with 1 Axes>"
      ]
     },
     "metadata": {},
     "output_type": "display_data"
    }
   ],
   "source": [
    "sns.distplot(data_dead[data_dead['COP'] == 0]['OS'],bins=15)\n",
    "sns.distplot(data_dead[data_dead['COP']== 1]['OS'],bins=15)\n",
    "plt.title('OS distribution grouped by COP')\n",
    "plt.legend(['NO COP','COP'])"
   ]
  },
  {
   "cell_type": "markdown",
   "metadata": {},
   "source": [
    "<u>**After all, total intracranial tumor resection is a quite efficient methold to treat this disease. But not all of the patients have the opportunity to go under COP dut to a varity of reasons, such as poor general body condition, aggressive primary tumor , etc.**</u>"
   ]
  },
  {
   "cell_type": "code",
   "execution_count": 56,
   "metadata": {},
   "outputs": [
    {
     "data": {
      "text/plain": [
       "<matplotlib.legend.Legend at 0x23ace08d978>"
      ]
     },
     "execution_count": 56,
     "metadata": {},
     "output_type": "execute_result"
    },
    {
     "data": {
      "image/png": "[encoded data removed]",
      "text/plain": [
       "<Figure size 432x288 with 1 Axes>"
      ]
     },
     "metadata": {},
     "output_type": "display_data"
    }
   ],
   "source": [
    "sns.distplot(data_dead[data_dead['WBRT'] == 0]['OS'],bins=15)\n",
    "sns.distplot(data_dead[data_dead['WBRT']== 1]['OS'],bins=15)\n",
    "plt.title('OS distribution grouped by WBRT')\n",
    "plt.legend(['NO WBRT','WBRT'])"
   ]
  },
  {
   "cell_type": "code",
   "execution_count": 57,
   "metadata": {},
   "outputs": [
    {
     "data": {
      "text/plain": [
       "<matplotlib.legend.Legend at 0x23ace12b208>"
      ]
     },
     "execution_count": 57,
     "metadata": {},
     "output_type": "execute_result"
    },
    {
     "data": {
      "image/png": "[encoded data removed]",
      "text/plain": [
       "<Figure size 432x288 with 1 Axes>"
      ]
     },
     "metadata": {},
     "output_type": "display_data"
    }
   ],
   "source": [
    "sns.distplot(data_dead[data_dead['SRS'] == 0]['OS'],bins=15)\n",
    "sns.distplot(data_dead[data_dead['SRS']== 1]['OS'],bins=15)\n",
    "plt.title('OS distribution grouped by SRS')\n",
    "plt.legend(['NO SRS','SRS'])"
   ]
  },
  {
   "cell_type": "markdown",
   "metadata": {},
   "source": [
    "<u>**While SRS seems to be a quite effective way as a replacement of tumor resection.**</u>"
   ]
  },
  {
   "cell_type": "code",
   "execution_count": 58,
   "metadata": {},
   "outputs": [
    {
     "data": {
      "text/plain": [
       "<matplotlib.legend.Legend at 0x23ace153780>"
      ]
     },
     "execution_count": 58,
     "metadata": {},
     "output_type": "execute_result"
    },
    {
     "data": {
      "image/png": "[encoded data removed]",
      "text/plain": [
       "<Figure size 432x288 with 1 Axes>"
      ]
     },
     "metadata": {},
     "output_type": "display_data"
    }
   ],
   "source": [
    "sns.distplot(data_dead[data_dead['POP'] == 0]['OS'],bins=15)\n",
    "sns.distplot(data_dead[data_dead['POP']== 1]['OS'],bins=15)\n",
    "plt.title('OS distribution grouped by POP')\n",
    "plt.legend(['NO POP','POP'])"
   ]
  },
  {
   "cell_type": "markdown",
   "metadata": {},
   "source": [
    "<u>**While POP seems to have limited benefits. Once the patients determine to accept tumor resection, all the neurosurgeons surely want to resect the tumor completely. If only partial resection can be achieved, there must be some reasons. For example, the tumor's location is in some functional area, so that total resection may cause sever disability; the tumor is multiple, doctors can not resect them all. So that's why according to NCCN guildline, if the tumor can not be totally resected, operation is not suggested. **</u>"
   ]
  },
  {
   "cell_type": "code",
   "execution_count": 59,
   "metadata": {},
   "outputs": [
    {
     "name": "stderr",
     "output_type": "stream",
     "text": [
      "C:\\Users\\freat\\AppData\\Local\\conda\\conda\\envs\\dog-project\\lib\\site-packages\\seaborn\\axisgrid.py:2065: UserWarning: The `size` parameter has been renamed to `height`; pleaes update your code.\n",
      "  warnings.warn(msg, UserWarning)\n"
     ]
    },
    {
     "data": {
      "text/plain": [
       "<seaborn.axisgrid.PairGrid at 0x23ace1fcf98>"
      ]
     },
     "execution_count": 59,
     "metadata": {},
     "output_type": "execute_result"
    },
    {
     "data": {
      "image/png": "[encoded data removed]",
      "text/plain": [
       "<Figure size 864x864 with 72 Axes>"
      ]
     },
     "metadata": {},
     "output_type": "display_data"
    }
   ],
   "source": [
    "sns.pairplot(data_dead[['OS','total_tumor_amount','age_group','primary tumor control','COP','SRS','WBRT','KPS']],kind='reg',diag_kind='kde',size=1.5)"
   ]
  },
  {
   "cell_type": "markdown",
   "metadata": {},
   "source": [
    "After all,I plot the pair-fit results, you can find more information if you want."
   ]
  },
  {
   "cell_type": "markdown",
   "metadata": {},
   "source": [
    "#### Question 3: Can we build a model using these clinical data to predict overall survival time?"
   ]
  },
  {
   "cell_type": "code",
   "execution_count": 60,
   "metadata": {},
   "outputs": [],
   "source": [
    "import sklearn"
   ]
  },
  {
   "cell_type": "code",
   "execution_count": 61,
   "metadata": {},
   "outputs": [
    {
     "data": {
      "text/plain": [
       "Index(['gender', 'tumor_amount_supratentorial', 'tumor_amount_subtentorial',\n",
       "       'duration', 'KPS', 'OS', 'primary tumor control', 'size',\n",
       "       'metastasis other than CNS', 'total_tumor_amount', 'is_single', 'COP',\n",
       "       'WBRT', 'CT', 'SRS', 'POP', 'breast', 'colon', 'kidney', 'lung',\n",
       "       'lymphoma', 'others', 'rectum', 'age_group'],\n",
       "      dtype='object')"
      ]
     },
     "execution_count": 61,
     "metadata": {},
     "output_type": "execute_result"
    }
   ],
   "source": [
    "data_dead.columns"
   ]
  },
  {
   "cell_type": "code",
   "execution_count": 62,
   "metadata": {},
   "outputs": [],
   "source": [
    "#prepare the train dataset\n",
    "from sklearn.preprocessing import StandardScaler\n",
    "xcols = ['KPS','primary tumor control','size','metastasis other than CNS','total_tumor_amount','COP','WBRT','CT','SRS','breast','kidney','lung','lymphoma','age_group']\n",
    "scaler = StandardScaler()\n",
    "X = scaler.fit_transform(data_dead[xcols])\n",
    "y = data_dead['OS']"
   ]
  },
  {
   "cell_type": "code",
   "execution_count": 63,
   "metadata": {},
   "outputs": [
    {
     "data": {
      "text/plain": [
       "LassoCV(alphas=array([0.001  , 0.00107, ..., 0.9326 , 1.     ]), copy_X=True,\n",
       "    cv=10, eps=0.001, fit_intercept=True, max_iter=1000, n_alphas=100,\n",
       "    n_jobs=1, normalize=False, positive=False, precompute='auto',\n",
       "    random_state=None, selection='cyclic', tol=0.0001, verbose=False)"
      ]
     },
     "execution_count": 63,
     "metadata": {},
     "output_type": "execute_result"
    }
   ],
   "source": [
    "# According the analysis above ,the risk factor have a issue of multicolinearity.\n",
    "# So I chose Lasso regression to decrease the impact of colinearity.\n",
    "from sklearn.linear_model import LassoCV\n",
    "#Create a geometric progression to restore possible coefficient alpha\n",
    "lasso_alphas = np.logspace(-3,0,100,base =10)\n",
    "# Use LassoCV to do cross validation to filtrate the best alpha.\n",
    "lcv= LassoCV(alphas=lasso_alphas, cv=10)\n",
    "lcv.fit(X, y)"
   ]
  },
  {
   "cell_type": "code",
   "execution_count": 64,
   "metadata": {},
   "outputs": [
    {
     "name": "stdout",
     "output_type": "stream",
     "text": [
      "The best alpha is 0.4641588833612782\n"
     ]
    }
   ],
   "source": [
    "print ('The best alpha is {}'.format(lcv.alpha_))"
   ]
  },
  {
   "cell_type": "code",
   "execution_count": 65,
   "metadata": {},
   "outputs": [
    {
     "name": "stdout",
     "output_type": "stream",
     "text": [
      "The R square is 0.5802878358286337\n"
     ]
    }
   ],
   "source": [
    "print ('The R square is {}'.format(lcv.score(X, y)))"
   ]
  },
  {
   "cell_type": "code",
   "execution_count": 66,
   "metadata": {},
   "outputs": [
    {
     "data": {
      "text/plain": [
       "array([ 1.72899589,  0.84367187,  0.        ,  0.        , -1.46599316,\n",
       "        0.6710009 ,  0.20144078,  0.75594423,  3.0653115 , -0.        ,\n",
       "        0.        ,  0.08538205, -0.59452606, -0.60529253])"
      ]
     },
     "execution_count": 66,
     "metadata": {},
     "output_type": "execute_result"
    }
   ],
   "source": [
    "#print the final regression model's coefficients.\n",
    "lcv.coef_"
   ]
  },
  {
   "cell_type": "code",
   "execution_count": 67,
   "metadata": {},
   "outputs": [
    {
     "data": {
      "image/png": "[encoded data removed]",
      "text/plain": [
       "<Figure size 1224x360 with 1 Axes>"
      ]
     },
     "metadata": {},
     "output_type": "display_data"
    }
   ],
   "source": [
    "# Plot a picture,to see the difference between the raw and the predicted OS.\n",
    "plt.figure(figsize=(17,5))\n",
    "plt.plot(data_dead.index, data_dead.OS)\n",
    "plt.plot(data_dead.index, lcv.predict(X))\n",
    "plt.legend(['Real data','Predicted data'])\n",
    "plt.show()"
   ]
  },
  {
   "cell_type": "markdown",
   "metadata": {},
   "source": [
    "## 5. Results"
   ]
  },
  {
   "cell_type": "markdown",
   "metadata": {},
   "source": [
    "- From the analysis done above, we can conclude that:\n",
    " > Brain metastasis is quite terrible disease with a median survival time of just 6 months.\n",
    " \n",
    " > Most patients are around 60 years old when the onset of illness.\n",
    " \n",
    " > Lung cancer is the most frequent tumor that cause brain metastasis and counts for 60% of all cases.\n",
    " \n",
    " > The required time for lung cancer to generate metastasis is so short that quite a lot of people even don't know they have gotten a system caner when they find the metastasis.\n",
    " \n",
    " > A larger KPS score, primary tumor undercontrol,single metastasis are associated with prolonged survival time.\n",
    " \n",
    " > Complete tumor resection and stereotactic radiotherapy are both effective way to treat this disease, but because of the servity of the illness, the therapeutic effect are quite limited."
   ]
  },
  {
   "cell_type": "markdown",
   "metadata": {},
   "source": [
    "## 6. Deploy"
   ]
  },
  {
   "cell_type": "markdown",
   "metadata": {},
   "source": [
    "Here, I try to build a predictive model using lasso linear regression. The final $R^2$ is 0.58. I think it's not good enough to be deployed clinically. But this result is in line with forecast. After all, brain metastasis is a quite complicated disease. We have to collect more patients' data, more details of the disease. So we can build a more precise model to predict the OS and the benefit of the treatments."
   ]
  }
 ],
 "metadata": {
  "kernelspec": {
   "display_name": "Python [conda env:dog-project]",
   "language": "python",
   "name": "conda-env-dog-project-py"
  },
  "language_info": {
   "codemirror_mode": {
    "name": "ipython",
    "version": 3
   },
   "file_extension": ".py",
   "mimetype": "text/x-python",
   "name": "python",
   "nbconvert_exporter": "python",
   "pygments_lexer": "ipython3",
   "version": "3.5.5"
  }
 },
 "nbformat": 4,
 "nbformat_minor": 2
}
